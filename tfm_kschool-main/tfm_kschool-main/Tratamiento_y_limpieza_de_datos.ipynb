{
 "cells": [
  {
   "cell_type": "code",
   "execution_count": 1,
   "id": "319d049b",
   "metadata": {
    "id": "bd9c2b85"
   },
   "outputs": [],
   "source": [
    "import pandas as pd\n",
    "import numpy as np\n",
    "import unicodedata\n",
    "import re"
   ]
  },
  {
   "cell_type": "code",
   "execution_count": 2,
   "id": "85317762",
   "metadata": {
    "id": "9e11a3ab"
   },
   "outputs": [],
   "source": [
    "data = pd.read_csv('Datos Madrid/Datos Madrid.csv')"
   ]
  },
  {
   "cell_type": "markdown",
   "id": "2bf6e126",
   "metadata": {
    "id": "1f63abff"
   },
   "source": [
    "### Eliminación de registros sin información\n",
    "\n",
    "En caso de presentar valores desconocidos en los campos Comentario, Mas detalles e Info. Será imposible\n",
    "trabajar con esos registros, ya que no hay forma de obtener información de ellos.\n",
    "Estos registros suelen corresponder a anuncios retirados que ya no disponían de información\n",
    "a la hora de relaizar el raspado."
   ]
  },
  {
   "cell_type": "code",
   "execution_count": 3,
   "id": "891e5366",
   "metadata": {
    "id": "c5e28469"
   },
   "outputs": [],
   "source": [
    "# Comprobamos los datos que cumplen esta condición\n",
    "\n",
    "columns_to_study = ['Comentario', 'Mas detalles', 'Info']\n",
    "\n",
    "incomplete_condition = (data[columns_to_study] == 'Desconocido').all(axis = 1)\n",
    "data_incomplete = data[incomplete_condition]"
   ]
  },
  {
   "cell_type": "code",
   "execution_count": 4,
   "id": "fe21f405",
   "metadata": {
    "id": "517f138a",
    "outputId": "6943e038-8e4a-4f55-d3c0-2d984601cf23",
    "scrolled": true
   },
   "outputs": [
    {
     "name": "stdout",
     "output_type": "stream",
     "text": [
      "             ID       Precio Planta o Tipo N Habitaciones           m2  \\\n",
      "3667   97032821  Desconocido   Desconocido    Desconocido  Desconocido   \n",
      "14972  97227176  Desconocido   Desconocido    Desconocido  Desconocido   \n",
      "14195  97215533  Desconocido   Desconocido    Desconocido  Desconocido   \n",
      "4242   97206424  Desconocido   Desconocido    Desconocido  Desconocido   \n",
      "14729  95888397  Desconocido   Desconocido    Desconocido  Desconocido   \n",
      "8797   97310512  Desconocido   Desconocido    Desconocido  Desconocido   \n",
      "12175  96313577  Desconocido   Desconocido    Desconocido  Desconocido   \n",
      "12241  97350196  Desconocido   Desconocido    Desconocido  Desconocido   \n",
      "\n",
      "        Comentario                 Zona           Subzona         Info  \\\n",
      "3667   Desconocido            Chamartin           El Viso  Desconocido   \n",
      "14972  Desconocido           Arganzuela           Acacias  Desconocido   \n",
      "14195  Desconocido          Carabanchel          Abrantes  Desconocido   \n",
      "4242   Desconocido            Chamartin       Prosperidad  Desconocido   \n",
      "14729  Desconocido           Arganzuela          Imperial  Desconocido   \n",
      "8797   Desconocido  Barrio de Salamanca              Goya  Desconocido   \n",
      "12175  Desconocido               Latina  Puerta del Ángel  Desconocido   \n",
      "12241  Desconocido               Latina  Puerta del Ángel  Desconocido   \n",
      "\n",
      "      Mas detalles  \n",
      "3667   Desconocido  \n",
      "14972  Desconocido  \n",
      "14195  Desconocido  \n",
      "4242   Desconocido  \n",
      "14729  Desconocido  \n",
      "8797   Desconocido  \n",
      "12175  Desconocido  \n",
      "12241  Desconocido   \n",
      "\n",
      "\n",
      "Cantidad de datos inservibles:  644\n"
     ]
    }
   ],
   "source": [
    "print(data_incomplete.sample(8),'\\n\\n') # Comprobamos que están incompletos los campos\n",
    "\n",
    "print('Cantidad de datos inservibles: ',len(data_incomplete)) # Visualizamos el total de datos incompletos"
   ]
  },
  {
   "cell_type": "code",
   "execution_count": 5,
   "id": "0857f7e3",
   "metadata": {
    "id": "9462f82d"
   },
   "outputs": [],
   "source": [
    "# Guardamos los valores completos en data2\n",
    "\n",
    "data = data[~(incomplete_condition)]"
   ]
  },
  {
   "cell_type": "code",
   "execution_count": 6,
   "id": "3cf5ce6d",
   "metadata": {
    "id": "a8be28e8",
    "outputId": "bea2efc8-d12e-441c-a4cb-3eb23dace69c"
   },
   "outputs": [
    {
     "data": {
      "text/plain": [
       "19351"
      ]
     },
     "execution_count": 6,
     "metadata": {},
     "output_type": "execute_result"
    }
   ],
   "source": [
    "len(data)"
   ]
  },
  {
   "cell_type": "code",
   "execution_count": 7,
   "id": "5ca80099",
   "metadata": {
    "id": "47252cd5"
   },
   "outputs": [],
   "source": [
    "data = data.reset_index(drop=True)"
   ]
  },
  {
   "cell_type": "markdown",
   "id": "87efa396",
   "metadata": {
    "id": "f9247d8b"
   },
   "source": [
    "### Tratamiento de campo Planta o Tipo"
   ]
  },
  {
   "cell_type": "code",
   "execution_count": 8,
   "id": "d90feb9d",
   "metadata": {
    "id": "134baf64",
    "outputId": "25ca62f5-8d7f-4ad9-805b-851e7dcab9fd"
   },
   "outputs": [
    {
     "data": {
      "text/plain": [
       "2555"
      ]
     },
     "execution_count": 8,
     "metadata": {},
     "output_type": "execute_result"
    }
   ],
   "source": [
    "# Comprobamos cuántos valores desconocidos hay en esta columna\n",
    "\n",
    "sum(data['Planta o Tipo'] == 'Desconocido')"
   ]
  },
  {
   "cell_type": "code",
   "execution_count": 9,
   "id": "073b9b8d",
   "metadata": {},
   "outputs": [],
   "source": [
    "def standard_words(sentence):\n",
    "    return str(unicodedata.normalize('NFKD', sentence.lower()).encode('ASCII', 'ignore'))\n",
    "\n",
    "def search_words(sentence, words_searched : list):\n",
    "    return any([word in sentence for word in words_searched])\n",
    "\n",
    "def search_words_in_df(df : pd.DataFrame, columns_to_study : list, words_searched : list):\n",
    "    return df[columns_to_study].applymap(lambda x: search_words(x,words_searched)).any(axis = 1)\n",
    "\n",
    "def is_any_value_filled(df : pd.DataFrame, list_filled : list, column_compare, value_null):\n",
    "    return sum(list_filled & (df[column_compare] == value_null))"
   ]
  },
  {
   "cell_type": "code",
   "execution_count": 10,
   "id": "a314300b",
   "metadata": {},
   "outputs": [],
   "source": [
    "def apply_conditions(data, condition_list, name_fill, column_compare = 'Planta o Tipo', value_null = 'Desconocido'):\n",
    "    condition_under = np.array(condition_list).reshape((len(condition_list),-1)).any(axis=0)\n",
    "    values_filled = is_any_value_filled(data, condition_under, column_compare, value_null)\n",
    "    print(f'Cantidad de valores rellenados con valor {name_fill}: {values_filled}')\n",
    "    condition_under = condition_under & (data[column_compare]==value_null)\n",
    "    data.loc[condition_under, column_compare] = name_fill\n",
    "    return data\n",
    "\n",
    "def search_number(sentence):\n",
    "    match = re.search('planta[^0-9]{0,3}(\\d{1,})', sentence)\n",
    "    if match is None:\n",
    "        return 'Desconocido'\n",
    "    else:\n",
    "        return match[1]"
   ]
  },
  {
   "cell_type": "code",
   "execution_count": 11,
   "id": "034a6f9f",
   "metadata": {},
   "outputs": [],
   "source": [
    "data[['Comentario_lower', 'Mas detalles_lower', 'Info_lower']] = data[['Comentario', 'Mas detalles', 'Info']].applymap(lambda x: standard_words(x))"
   ]
  },
  {
   "cell_type": "code",
   "execution_count": 12,
   "id": "15947ff5",
   "metadata": {},
   "outputs": [
    {
     "name": "stdout",
     "output_type": "stream",
     "text": [
      "(array(['1', '10', '11', '12', '13', '14', '15', '16', '17', '18', '19',\n",
      "       '2', '20', '22', '3', '4', '5', '6', '60', '7', '8', '9', 'Bajo',\n",
      "       'Desconocido'], dtype=object), array([3821,   76,   53,   28,   43,   20,   13,   10,    1,    7,    3,\n",
      "       3203,    9,    2, 2483, 2008, 1132,  722,    1,  392,  216,  130,\n",
      "       2423, 2555]))\n"
     ]
    }
   ],
   "source": [
    "# Correccion de errores en la toma de numeros de planta en el scrapeo\n",
    "condition_no_under = data['Planta o Tipo'] != 'Bajo'\n",
    "data.loc[condition_no_under, 'Planta o Tipo'] = data[condition_no_under]['Info_lower'].apply(lambda x: search_number(x))\n",
    "print(np.unique(data['Planta o Tipo'], return_counts=True))"
   ]
  },
  {
   "cell_type": "code",
   "execution_count": 13,
   "id": "ad0c1ff6",
   "metadata": {},
   "outputs": [
    {
     "name": "stdout",
     "output_type": "stream",
     "text": [
      "Cantidad de valores rellenados con valor Chalet: 1415\n"
     ]
    }
   ],
   "source": [
    "condition_list = []\n",
    "words_searched = ['chalet', 'finca', 'casa rural']\n",
    "\n",
    "condition_list.append(search_words_in_df(data, ['Comentario_lower', 'Mas detalles_lower', 'Info_lower'], words_searched))\n",
    "\n",
    "data = apply_conditions(data, condition_list, 'Chalet')"
   ]
  },
  {
   "cell_type": "code",
   "execution_count": 14,
   "id": "6cf66b10",
   "metadata": {
    "id": "fb92c8e8",
    "outputId": "159d2dc0-3b3e-4b3c-9520-ac6b37e88db2"
   },
   "outputs": [
    {
     "data": {
      "text/plain": [
       "(array(['1', '10', '11', '12', '13', '14', '15', '16', '17', '18', '19',\n",
       "        '2', '20', '22', '3', '4', '5', '6', '60', '7', '8', '9', 'Bajo',\n",
       "        'Chalet', 'Desconocido'], dtype=object),\n",
       " array([3821,   76,   53,   28,   43,   20,   13,   10,    1,    7,    3,\n",
       "        3203,    9,    2, 2483, 2008, 1132,  722,    1,  392,  216,  130,\n",
       "        2423, 1415, 1140]))"
      ]
     },
     "execution_count": 14,
     "metadata": {},
     "output_type": "execute_result"
    }
   ],
   "source": [
    "# Comprobamos cuántos valores desconocidos nos quedan ahora\n",
    "np.unique(data['Planta o Tipo'], return_counts=True)"
   ]
  },
  {
   "cell_type": "code",
   "execution_count": 15,
   "id": "74c6ad74",
   "metadata": {},
   "outputs": [
    {
     "name": "stdout",
     "output_type": "stream",
     "text": [
      "Cantidad de valores rellenados con valor Uso comercial: 10\n"
     ]
    }
   ],
   "source": [
    "# Otro tipo de inmueble habitual y característico serían las entreplantas, observando  el campo Info\n",
    "# y Mas detalles, se aprecia que, para este tipo de propiedades, se suele detallar en estos campos\n",
    "# Siguiendo un proceso similar a los anteriores:\n",
    "condition_list = []\n",
    "words_searched = ['este local comercial', 'de uso comercial', 'es local comercial', 'no acondicionado', \n",
    "                  'para acondicionar', 'a acondicionar', 'de oficinas', 'uso industrial', 'local industrial']\n",
    "\n",
    "condition_list.append(search_words_in_df(data, ['Comentario_lower'], words_searched))\n",
    "\n",
    "\n",
    "words_searched = ['Local comercial']\n",
    "condition_list.append(search_words_in_df(data, ['Comentario'], words_searched))\n",
    "\n",
    "data = apply_conditions(data, condition_list, 'Uso comercial')"
   ]
  },
  {
   "cell_type": "code",
   "execution_count": 16,
   "id": "67640f77",
   "metadata": {},
   "outputs": [
    {
     "name": "stdout",
     "output_type": "stream",
     "text": [
      "Cantidad de valores rellenados con valor Atico: 7\n"
     ]
    }
   ],
   "source": [
    "condition_list = []\n",
    "words_searched = ['luminosa buhardilla', 'preciosa buhardilla', 'bonita buhardilla', 'luminoso atico', \n",
    "                  'bonito atico', 'precioso atico', 'luminosa azotea', 'preciosa azotea', 'excepcional atico', \n",
    "                  'excepcional atico', 'bonita azotea', 'azotea en venta', 'azotea a la venta', 'se vende azotea', \n",
    "                  'atico en venta', 'atico a la venta', 'se vende atico', 'buhardilla en venta', 'buhardilla a la venta', \n",
    "                  'se vende buhardilla', 'venta de atico', 'venta de azotea', 'piso azotea', 'piso atico', \n",
    "                  'venta de buhardilla']\n",
    "\n",
    "condition_list.append(search_words_in_df(data, ['Comentario_lower'], words_searched))\n",
    "\n",
    "words_searched = ['Atico', 'Azotea', 'Buhardilla', 'Ultima planta']\n",
    "condition_list.append(search_words_in_df(data, ['Comentario'], words_searched))\n",
    "\n",
    "words_searched = ['azotea', 'atico']\n",
    "condition_list.append(search_words_in_df(data, ['Info_lower'], words_searched))\n",
    "\n",
    "data = apply_conditions(data, condition_list, 'Atico')"
   ]
  },
  {
   "cell_type": "code",
   "execution_count": 17,
   "id": "08c846f8",
   "metadata": {},
   "outputs": [
    {
     "name": "stdout",
     "output_type": "stream",
     "text": [
      "Cantidad de valores rellenados con valor Entreplanta: 204\n"
     ]
    }
   ],
   "source": [
    "# Otro tipo de inmueble habitual y característico serían las entreplantas, observando  el campo Info\n",
    "# y Mas detalles, se aprecia que, para este tipo de propiedades, se suele detallar en estos campos\n",
    "# Siguiendo un proceso similar a los anteriores:\n",
    "condition_list = []\n",
    "words_searched = ['en entreplanta', 'en la entreplanta', 'esta entreplanta', 'piso en entreplanta', 'inmueble en entreplanta',\n",
    "                 'se trata de una entreplanta', 'en una entreplanta']\n",
    "\n",
    "condition_list.append(search_words_in_df(data, ['Comentario_lower'], words_searched))\n",
    "\n",
    "\n",
    "words_searched = ['entreplanta']\n",
    "condition_list.append(search_words_in_df(data, ['Info_lower', 'Mas detalles_lower'], words_searched))\n",
    "\n",
    "data = apply_conditions(data, condition_list, 'Entreplanta')"
   ]
  },
  {
   "cell_type": "code",
   "execution_count": 18,
   "id": "c3e55fea",
   "metadata": {},
   "outputs": [
    {
     "name": "stdout",
     "output_type": "stream",
     "text": [
      "Cantidad de valores rellenados con valor Bajo: 213\n"
     ]
    }
   ],
   "source": [
    "condition_list = []\n",
    "words_searched = ['vende sotano', 'vende semisotano', 'es un sotano', 'es un bajo', 'es el bajo', 'se trata de un bajo', \n",
    "                'es un semisotano', 'vende un semisotano', 'vende un sotano', 'es una planta baja', 'es la planta baja', \n",
    "                'es planta baja', 'en planta baja', 'es sotano', 'es semisotano', 'es el sotano', 'es el semisotano',\n",
    "                'en el sotano', 'en el semisotano', 'en la planta baja', 'semisotano a la venta', 'semisotano en venta', \n",
    "                 'sotano a la venta', 'sotano en venta', 'semisotano exterior', 'sotano exterior', 'planta baja exterior', \n",
    "                'bonito sotano', 'estupendo sotano', 'precioso sotano', 'magnifico sotano', 'en un semisotano', \n",
    "                'en planta sotano', 'semi sotano', 'en un sotano', 'en una planta baja', 'en planta semisotano', \n",
    "                'en la planta sotano', 'en la planta semisotano', 'piso en planta baja', 'vivienda en planta baja', \n",
    "                'inmueble en sotano', 'piso en sotano', 'vivenda en sotano', 'inmueble en semisotano', 'piso en semisotano', \n",
    "                'vivenda en semisotano', 'inmueble en semi sotano', 'piso en semi sotano', 'vivenda en semi sotano', \n",
    "                'inmueble en semi-sotano', 'piso en semi-sotano', 'vivenda en semi-sotano']\n",
    "\n",
    "condition_list.append(search_words_in_df(data, ['Comentario_lower'], words_searched))\n",
    "\n",
    "\n",
    "words_searched = ['Bajo', 'Planta baja', 'Sotano', 'Semisotano', 'Semi-sotano', 'esta en la planta baja', \n",
    "                  'Ubicada en la planta baja']\n",
    "condition_list.append(search_words_in_df(data, ['Comentario'], words_searched))\n",
    "\n",
    "words_searched = ['semisotano', 'semi sotano', 'semi-sotano']\n",
    "condition_list.append(search_words_in_df(data, ['Info_lower', 'Mas detalles_lower'], words_searched))\n",
    "\n",
    "data = apply_conditions(data, condition_list, 'Bajo') "
   ]
  },
  {
   "cell_type": "code",
   "execution_count": 19,
   "id": "9f3a74cf",
   "metadata": {},
   "outputs": [
    {
     "name": "stdout",
     "output_type": "stream",
     "text": [
      "Cantidad de valores rellenados con valor Piso: 505\n"
     ]
    }
   ],
   "source": [
    "condition_list = []\n",
    "words_searched = ['apartamento', 'estudio', 'piso a la venta', 'vende piso', \n",
    "                'estupendo piso', 'precioso piso', 'espacioso piso', 'esplendido piso', 'luminoso piso', \n",
    "                'fantastico piso', 'excelente piso', 'magnifico piso', 'fabuloso piso', 'comodo piso', \n",
    "                'amplio piso', 'piso estupendo', 'piso precioso', 'piso espacioso', 'piso esplendido', \n",
    "                'piso luminoso ', 'piso fantastico ', 'piso perfecto ', 'piso excelente', 'piso magnifico', \n",
    "                'fabuloso piso', 'piso comodo', 'piso amplio', 'piso maravilloso ', 'piso exterior', 'piso interior', \n",
    "                'piso reformado', 'piso con reforma', 'piso a reformar', 'loft', 'duplex', 'triplex', 'piso de', \n",
    "                'piso ubicado', 'piso situado', 'lujoso piso', 'piso totalmente', 'piso en ', 'piso piloto', 'piso muy', \n",
    "                'piso con', 'piso situado', 'piso reformado', 'piso sin reformar', 'piso a reformar', 'piso para reformar', \n",
    "                'piso a falta de reformar', 'piso bastante']\n",
    "condition_list.append(search_words_in_df(data, ['Comentario_lower'], words_searched))\n",
    "\n",
    "data = apply_conditions(data, condition_list, 'Piso') \n"
   ]
  },
  {
   "cell_type": "code",
   "execution_count": 20,
   "id": "38811507",
   "metadata": {},
   "outputs": [
    {
     "name": "stdout",
     "output_type": "stream",
     "text": [
      "Cantidad de valores rellenados con valor Residencial: 86\n"
     ]
    }
   ],
   "source": [
    "condition_list = []\n",
    "words_searched = ['viviendas', 'complejo residencial', 'inmuebles', 'pisos', 'apartamentos']\n",
    "condition_list.append(search_words_in_df(data, ['Comentario_lower'], words_searched))\n",
    "\n",
    "words_searched = ['estudio']\n",
    "condition_list.append(search_words_in_df(data, ['Info_lower', 'Mas detalles_lower'], words_searched))\n",
    "data = apply_conditions(data, condition_list, 'Residencial') "
   ]
  },
  {
   "cell_type": "code",
   "execution_count": 21,
   "id": "f0e036db",
   "metadata": {},
   "outputs": [
    {
     "name": "stdout",
     "output_type": "stream",
     "text": [
      "Cantidad de valores rellenados con valor Piso: 107\n"
     ]
    }
   ],
   "source": [
    "condition_list = []\n",
    "words_searched = ['primera planta', 'segunda planta', 'tercera planta', 'cuarta planta', \n",
    "                 'quinta planta', 'sexta planta', 'septima planta', 'octava planta', \n",
    "                 'novena planta', 'decima planta', 'planta primera', 'planta segunda', \n",
    "                 'planta tercera', 'planta cuarta', 'planta quinta', 'planta sexta', \n",
    "                 'planta septima', 'planta octava', 'primer piso', 'segundo piso', 'tercer piso', \n",
    "                 'cuarto piso', 'quinto piso', 'sexto piso', 'septimo piso', 'octavo piso', \n",
    "                 'noveno piso', 'decimo piso', 'con ascensor', 'de ascensor']\n",
    "\n",
    "condition_list.append(search_words_in_df(data, ['Comentario_lower'], words_searched))\n",
    "\n",
    "words_searched = ['ascensor']\n",
    "\n",
    "condition_list.append(search_words_in_df(data, ['Mas detalles_lower'], words_searched))\n",
    "\n",
    "data = apply_conditions(data, condition_list, 'Piso') "
   ]
  },
  {
   "cell_type": "code",
   "execution_count": 22,
   "id": "de9fdaa5",
   "metadata": {
    "id": "a21674c8",
    "outputId": "a7f995ba-49c1-4178-847c-741c269007d1"
   },
   "outputs": [],
   "source": [
    "# Comprobamos que ya no quedan valores desconocidos\n",
    "\n",
    "data.loc[data['Planta o Tipo'] == 'Desconocido', 'Planta o Tipo'] = 'Piso'"
   ]
  },
  {
   "cell_type": "markdown",
   "id": "57cdfb78",
   "metadata": {
    "id": "8c19d756"
   },
   "source": [
    "## Tratamiento de plantas con nuevo campo piso\n",
    "\n",
    "Creamos un nuevo campo Planta para detallar la altura de la planta del piso en oferta, dejaremos el campo Planta o Tipo como Tipo"
   ]
  },
  {
   "cell_type": "code",
   "execution_count": 23,
   "id": "bad01d4b",
   "metadata": {
    "id": "791e791c"
   },
   "outputs": [],
   "source": [
    "# Creamos un nuevo dataset llamado df y renombramos la columna Planta o Tipo por solamente Tipo\n",
    "\n",
    "data.rename(columns={'Planta o Tipo': 'Tipo'}, inplace=True)"
   ]
  },
  {
   "cell_type": "code",
   "execution_count": 24,
   "id": "490b2899",
   "metadata": {
    "id": "ed2e5c4c",
    "scrolled": true
   },
   "outputs": [],
   "source": [
    "# Creamos la nueva columna Piso con valores cero por defecto\n",
    "\n",
    "data['Planta'] = data['Tipo'].apply(lambda x: x if re.search('[0-9]', x) is not None else \"0\")\n",
    "data['Tipo'] = data['Tipo'].apply(lambda x: \"Piso\" if re.search('[0-9]', x) is not None else x)"
   ]
  },
  {
   "cell_type": "code",
   "execution_count": 25,
   "id": "27c30eb0",
   "metadata": {
    "scrolled": false
   },
   "outputs": [
    {
     "name": "stdout",
     "output_type": "stream",
     "text": [
      "Cantidad de valores rellenados con valor 1: 854\n",
      "Cantidad de valores rellenados con valor 2: 234\n",
      "Cantidad de valores rellenados con valor 3: 80\n",
      "Cantidad de valores rellenados con valor 3: 0\n",
      "Cantidad de valores rellenados con valor 4: 172\n",
      "Cantidad de valores rellenados con valor 5: 30\n",
      "Cantidad de valores rellenados con valor 6: 6\n",
      "Cantidad de valores rellenados con valor 7: 6\n",
      "Cantidad de valores rellenados con valor 8: 3\n",
      "Cantidad de valores rellenados con valor 9: 0\n",
      "Cantidad de valores rellenados con valor 10: 3\n"
     ]
    }
   ],
   "source": [
    "# Buscamos palabras y expresiones habituales para los cada piso\n",
    "\n",
    "\n",
    "#### PLANTA 1 ####\n",
    "# Búsqueda en campo comentario en minúsculas ignorando mayúsculas\n",
    "condition_list = []\n",
    "words_searched = ['primera planta', '1a planta', 'planta 1 ', 'piso 1 ', '1er piso', 'primer piso', \n",
    "                  'planta primera', 'piso primero', 'un primer', 'un primero', \n",
    "                  'el primer', 'el primer', 'una primera', 'la primera', '1a', '1o', 'un primero']\n",
    "condition_list.append(search_words_in_df(data, ['Comentario_lower'], words_searched))\n",
    "data = apply_conditions(data, condition_list, '1', 'Planta', '0')\n",
    "\n",
    "\n",
    "### PLANTA 2 ####\n",
    "# Búsqueda en campo comentario en minúsculas ignorando mayúsculas\n",
    "condition_list = []\n",
    "words_searched = ['segunda planta' , '2a planta', '2o piso', 'planta 2 ', 'piso 2 ' , \n",
    "                  'segundo piso', 'planta segunda', 'piso segundo', 'un segundo', \n",
    "                  'el segundo', 'una segunda', 'la segunda', '2o', '2a']\n",
    "condition_list.append(search_words_in_df(data, ['Comentario_lower'], words_searched))\n",
    "data = apply_conditions(data, condition_list, '2', 'Planta', '0')\n",
    "\n",
    "\n",
    "### PLANTA 3 ####\n",
    "# Búsqueda en campo comentario en minúsculas ignorando mayúsculas\n",
    "condition_list = []\n",
    "words_searched = ['tercera planta', '3a planta', '3o piso', 'planta 3 ', 'piso 3 ', 'tercer piso', 'planta tercera', 'piso tercero', 'un tercer', 'el tercer', 'el tercero', 'una tercera', 'la tercera', '3o', '3a']\n",
    "condition_list.append(search_words_in_df(data, ['Comentario_lower'], words_searched))\n",
    "data = apply_conditions(data, condition_list, '3', 'Planta', '0')\n",
    "\n",
    "# Búsqueda en campo comentario normal, con signos literales del anuncio\n",
    "condition_list = []\n",
    "words_searched = ['3ª', '3º']\n",
    "condition_list.append(search_words_in_df(data, ['Comentario'], words_searched))\n",
    "data = apply_conditions(data, condition_list, '3', 'Planta', '0')\n",
    "\n",
    "### PLANTA 4 ####\n",
    "# Búsqueda en campo comentario en minúsculas ignorando mayúsculas\n",
    "condition_list = []\n",
    "words_searched = ['cuarta planta' , '4a planta', '4o piso', 'planta 4 ', 'piso 4 ' , 'cuarto piso', 'planta cuarta', 'piso cuarto', 'un cuarto', 'el cuarto', 'una cuarta', 'la cuarta', '4o', '4a']\n",
    "condition_list.append(search_words_in_df(data, ['Comentario_lower'], words_searched))\n",
    "data = apply_conditions(data, condition_list, '4', 'Planta', '0')\n",
    "\n",
    "\n",
    "### PLANTA 5 ####\n",
    "# Búsqueda en campo comentario en minúsculas ignorando mayúsculas\n",
    "condition_list = []\n",
    "words_searched = ['quinta planta' , '5a planta', '5o piso', 'planta 5 ', 'piso 5 ' , 'quinto piso', 'planta quinta', 'piso quinto', 'un quinto', 'el quinto', 'una quinta', 'la quinta', '5o', '5a']\n",
    "condition_list.append(search_words_in_df(data, ['Comentario_lower'], words_searched))\n",
    "data = apply_conditions(data, condition_list, '5', 'Planta', '0')\n",
    "\n",
    "\n",
    "### PLANTA 6 ####\n",
    "# Búsqueda en campo comentario en minúsculas ignorando mayúsculas\n",
    "condition_list = []\n",
    "words_searched = ['sexta planta' , '6a planta', '6o piso' , 'sexto piso', 'planta sexta', 'piso sexto', 'un sexto', 'el sexto', 'una sexta', 'la sexta', '6o', '6a']\n",
    "condition_list.append(search_words_in_df(data, ['Comentario_lower'], words_searched))\n",
    "data = apply_conditions(data, condition_list, '6', 'Planta', '0')\n",
    "\n",
    "\n",
    "### PLANTA 7 ####\n",
    "# Búsqueda en campo comentario en minúsculas ignorando mayúsculas\n",
    "condition_list = []\n",
    "words_searched = ['septima planta' , '7a planta', '7o piso', 'planta 7 ', 'piso 7 ', 'septimo piso', 'planta septima', 'piso septimo', 'un septimo', 'el septimo', 'una septima', 'la septima', '7o', '7a']\n",
    "condition_list.append(search_words_in_df(data, ['Comentario_lower'], words_searched))\n",
    "data = apply_conditions(data, condition_list, '7', 'Planta', '0')\n",
    "\n",
    "\n",
    "### PLANTA 8 ####\n",
    "# Búsqueda en campo comentario en minúsculas ignorando mayúsculas\n",
    "condition_list = []\n",
    "words_searched = ['octava planta' , '8a planta', '8o piso', 'planta 8 ', 'piso 8 ' , 'octavo piso', 'planta octava', 'piso octavo', 'un octavo', 'el octavo', 'una octava', 'la octava', '8o', '8a' ]\n",
    "condition_list.append(search_words_in_df(data, ['Comentario_lower'], words_searched))\n",
    "data = apply_conditions(data, condition_list, '8', 'Planta', '0')\n",
    "\n",
    "\n",
    "### PLANTA 9 ####\n",
    "# Búsqueda en campo comentario en minúsculas ignorando mayúsculas\n",
    "condition_list = []\n",
    "words_searched = ['novena planta' , '9a planta', '9o piso', 'planta 9 ', 'piso 9 ', 'noveno piso', 'planta novena', 'piso noveno', 'un noveno', 'el noveno', 'una novena', 'la novena', '9o', '9a']\n",
    "condition_list.append(search_words_in_df(data, ['Comentario_lower'], words_searched))\n",
    "data = apply_conditions(data, condition_list, '9', 'Planta', '0')\n",
    "\n",
    "\n",
    "### PLANTA 10 ####\n",
    "# Búsqueda en campo comentario en minúsculas ignorando mayúsculas\n",
    "condition_list = []\n",
    "words_searched = ['decima planta' , '10a planta', '10 piso', 'planta 10 ', 'piso 10 ' , 'decimo piso', 'planta decima', 'piso decimo', 'un decimo', 'el decimo', 'una decima', 'la decima', '10o', '10a']\n",
    "condition_list.append(search_words_in_df(data, ['Comentario_lower'], words_searched))\n",
    "data = apply_conditions(data, condition_list, '10', 'Planta', '0')\n"
   ]
  },
  {
   "cell_type": "code",
   "execution_count": 26,
   "id": "d88e3ff6",
   "metadata": {
    "scrolled": true
   },
   "outputs": [
    {
     "data": {
      "text/html": [
       "<div>\n",
       "<style scoped>\n",
       "    .dataframe tbody tr th:only-of-type {\n",
       "        vertical-align: middle;\n",
       "    }\n",
       "\n",
       "    .dataframe tbody tr th {\n",
       "        vertical-align: top;\n",
       "    }\n",
       "\n",
       "    .dataframe thead th {\n",
       "        text-align: right;\n",
       "    }\n",
       "</style>\n",
       "<table border=\"1\" class=\"dataframe\">\n",
       "  <thead>\n",
       "    <tr style=\"text-align: right;\">\n",
       "      <th></th>\n",
       "      <th>ID</th>\n",
       "      <th>Precio</th>\n",
       "      <th>Tipo</th>\n",
       "      <th>N Habitaciones</th>\n",
       "      <th>m2</th>\n",
       "      <th>Comentario</th>\n",
       "      <th>Zona</th>\n",
       "      <th>Subzona</th>\n",
       "      <th>Info</th>\n",
       "      <th>Mas detalles</th>\n",
       "      <th>Comentario_lower</th>\n",
       "      <th>Mas detalles_lower</th>\n",
       "      <th>Info_lower</th>\n",
       "      <th>Planta</th>\n",
       "    </tr>\n",
       "  </thead>\n",
       "  <tbody>\n",
       "    <tr>\n",
       "      <th>84</th>\n",
       "      <td>85449897</td>\n",
       "      <td>579.000</td>\n",
       "      <td>Piso</td>\n",
       "      <td>5</td>\n",
       "      <td>131</td>\n",
       "      <td>[Vivienda2 os brinda la oportunidad de inverti...</td>\n",
       "      <td>Centro</td>\n",
       "      <td>Malasaña-Universidad</td>\n",
       "      <td>131 m²   5 hab.    exterior con ascensor</td>\n",
       "      <td>[131 m² construidos, 117 m² útiles, 5 habitaci...</td>\n",
       "      <td>b'[vivienda2 os brinda la oportunidad de inver...</td>\n",
       "      <td>b'[131 m2 construidos, 117 m2 utiles, 5 habita...</td>\n",
       "      <td>b'  131 m2   5 hab.    exterior con ascensor    '</td>\n",
       "      <td>0</td>\n",
       "    </tr>\n",
       "    <tr>\n",
       "      <th>111</th>\n",
       "      <td>97322351</td>\n",
       "      <td>109.900</td>\n",
       "      <td>Piso</td>\n",
       "      <td>Desconocido</td>\n",
       "      <td>27</td>\n",
       "      <td>[Redpiso pone a la venta Estudio ACONDICIONADO...</td>\n",
       "      <td>Centro</td>\n",
       "      <td>Malasaña-Universidad</td>\n",
       "      <td>27 m²    exterior sin ascensor</td>\n",
       "      <td>[27 m² construidos, Sin habitación, 1 baño, Se...</td>\n",
       "      <td>b'[redpiso pone a la venta estudio acondiciona...</td>\n",
       "      <td>b'[27 m2 construidos, sin habitacion, 1 bano, ...</td>\n",
       "      <td>b'  27 m2    exterior sin ascensor    '</td>\n",
       "      <td>0</td>\n",
       "    </tr>\n",
       "    <tr>\n",
       "      <th>153</th>\n",
       "      <td>97286762</td>\n",
       "      <td>156.000</td>\n",
       "      <td>Piso</td>\n",
       "      <td>1</td>\n",
       "      <td>29</td>\n",
       "      <td>[Redpiso San Bernardo, vende acogedor apartame...</td>\n",
       "      <td>Centro</td>\n",
       "      <td>Malasaña-Universidad</td>\n",
       "      <td>29 m²   1 hab.    sin ascensor</td>\n",
       "      <td>[29 m² construidos, 1 habitación, 1 baño, Segu...</td>\n",
       "      <td>b'[redpiso san bernardo, vende acogedor aparta...</td>\n",
       "      <td>b'[29 m2 construidos, 1 habitacion, 1 bano, se...</td>\n",
       "      <td>b'  29 m2   1 hab.    sin ascensor    '</td>\n",
       "      <td>0</td>\n",
       "    </tr>\n",
       "    <tr>\n",
       "      <th>245</th>\n",
       "      <td>95895760</td>\n",
       "      <td>685.000</td>\n",
       "      <td>Piso</td>\n",
       "      <td>3</td>\n",
       "      <td>103</td>\n",
       "      <td>[Piso reformado a estrenar Engel&amp;amp;Voelkers ...</td>\n",
       "      <td>Centro</td>\n",
       "      <td>Malasaña-Universidad</td>\n",
       "      <td>103 m²   3 hab.    exterior sin ascensor</td>\n",
       "      <td>[103 m² construidos, 93 m² útiles, 3 habitacio...</td>\n",
       "      <td>b'[piso reformado a estrenar engel&amp;amp;voelker...</td>\n",
       "      <td>b'[103 m2 construidos, 93 m2 utiles, 3 habitac...</td>\n",
       "      <td>b'  103 m2   3 hab.    exterior sin ascensor    '</td>\n",
       "      <td>0</td>\n",
       "    </tr>\n",
       "    <tr>\n",
       "      <th>253</th>\n",
       "      <td>95806565</td>\n",
       "      <td>490.000</td>\n",
       "      <td>Piso</td>\n",
       "      <td>2</td>\n",
       "      <td>74</td>\n",
       "      <td>[Vivienda Reformada en Malasaña Engel&amp;amp;Voel...</td>\n",
       "      <td>Centro</td>\n",
       "      <td>Malasaña-Universidad</td>\n",
       "      <td>74 m²   2 hab.    exterior con ascensor</td>\n",
       "      <td>[74 m² construidos, 57 m² útiles, 2 habitacion...</td>\n",
       "      <td>b'[vivienda reformada en malasana engel&amp;amp;vo...</td>\n",
       "      <td>b'[74 m2 construidos, 57 m2 utiles, 2 habitaci...</td>\n",
       "      <td>b'  74 m2   2 hab.    exterior con ascensor    '</td>\n",
       "      <td>0</td>\n",
       "    </tr>\n",
       "    <tr>\n",
       "      <th>...</th>\n",
       "      <td>...</td>\n",
       "      <td>...</td>\n",
       "      <td>...</td>\n",
       "      <td>...</td>\n",
       "      <td>...</td>\n",
       "      <td>...</td>\n",
       "      <td>...</td>\n",
       "      <td>...</td>\n",
       "      <td>...</td>\n",
       "      <td>...</td>\n",
       "      <td>...</td>\n",
       "      <td>...</td>\n",
       "      <td>...</td>\n",
       "      <td>...</td>\n",
       "    </tr>\n",
       "    <tr>\n",
       "      <th>19284</th>\n",
       "      <td>96323505</td>\n",
       "      <td>466.500</td>\n",
       "      <td>Piso</td>\n",
       "      <td>2</td>\n",
       "      <td>87</td>\n",
       "      <td>[Magnífico piso de obra nueva en Madrid, perfe...</td>\n",
       "      <td>Hortaleza</td>\n",
       "      <td>Virgen del Cortijo - Manoteras</td>\n",
       "      <td>Obra nueva    87 m²   2 hab.</td>\n",
       "      <td>[87 m² construidos, 76 m² útiles, 2 habitacion...</td>\n",
       "      <td>b'[magnifico piso de obra nueva en madrid, per...</td>\n",
       "      <td>b'[87 m2 construidos, 76 m2 utiles, 2 habitaci...</td>\n",
       "      <td>b'   obra nueva    87 m2   2 hab.    '</td>\n",
       "      <td>0</td>\n",
       "    </tr>\n",
       "    <tr>\n",
       "      <th>19285</th>\n",
       "      <td>93589718</td>\n",
       "      <td>433.000</td>\n",
       "      <td>Piso</td>\n",
       "      <td>2</td>\n",
       "      <td>87</td>\n",
       "      <td>[Fantástico piso de obra nueva en Madrid, idea...</td>\n",
       "      <td>Hortaleza</td>\n",
       "      <td>Virgen del Cortijo - Manoteras</td>\n",
       "      <td>Obra nueva    87 m²   2 hab.</td>\n",
       "      <td>[87 m² construidos, 76 m² útiles, 2 habitacion...</td>\n",
       "      <td>b'[fantastico piso de obra nueva en madrid, id...</td>\n",
       "      <td>b'[87 m2 construidos, 76 m2 utiles, 2 habitaci...</td>\n",
       "      <td>b'   obra nueva    87 m2   2 hab.    '</td>\n",
       "      <td>0</td>\n",
       "    </tr>\n",
       "    <tr>\n",
       "      <th>19286</th>\n",
       "      <td>94211075</td>\n",
       "      <td>497.000</td>\n",
       "      <td>Piso</td>\n",
       "      <td>2</td>\n",
       "      <td>100</td>\n",
       "      <td>[Fabuloso piso de obra nueva en Madrid, perfec...</td>\n",
       "      <td>Hortaleza</td>\n",
       "      <td>Virgen del Cortijo - Manoteras</td>\n",
       "      <td>Obra nueva    100 m²   2 hab.</td>\n",
       "      <td>[100 m² construidos, 85 m² útiles, 2 habitacio...</td>\n",
       "      <td>b'[fabuloso piso de obra nueva en madrid, perf...</td>\n",
       "      <td>b'[100 m2 construidos, 85 m2 utiles, 2 habitac...</td>\n",
       "      <td>b'   obra nueva    100 m2   2 hab.    '</td>\n",
       "      <td>0</td>\n",
       "    </tr>\n",
       "    <tr>\n",
       "      <th>19295</th>\n",
       "      <td>95613429</td>\n",
       "      <td>450.000</td>\n",
       "      <td>Piso</td>\n",
       "      <td>2</td>\n",
       "      <td>180</td>\n",
       "      <td>[Colibree presenta asombroso loft reformado in...</td>\n",
       "      <td>Hortaleza</td>\n",
       "      <td>Virgen del Cortijo - Manoteras</td>\n",
       "      <td>180 m²   2 hab.    exterior sin ascensor   G...</td>\n",
       "      <td>[180 m² construidos, 2 habitaciones, 2 baños, ...</td>\n",
       "      <td>b'[colibree presenta asombroso loft reformado ...</td>\n",
       "      <td>b'[180 m2 construidos, 2 habitaciones, 2 banos...</td>\n",
       "      <td>b'  180 m2   2 hab.    exterior sin ascensor  ...</td>\n",
       "      <td>0</td>\n",
       "    </tr>\n",
       "    <tr>\n",
       "      <th>19298</th>\n",
       "      <td>94480921</td>\n",
       "      <td>410.000</td>\n",
       "      <td>Piso</td>\n",
       "      <td>2</td>\n",
       "      <td>87</td>\n",
       "      <td>[Estupendo piso de obra nueva en Madrid, idóne...</td>\n",
       "      <td>Hortaleza</td>\n",
       "      <td>Virgen del Cortijo - Manoteras</td>\n",
       "      <td>Obra nueva    87 m²   2 hab.</td>\n",
       "      <td>[87 m² construidos, 76 m² útiles, 2 habitacion...</td>\n",
       "      <td>b'[estupendo piso de obra nueva en madrid, ido...</td>\n",
       "      <td>b'[87 m2 construidos, 76 m2 utiles, 2 habitaci...</td>\n",
       "      <td>b'   obra nueva    87 m2   2 hab.    '</td>\n",
       "      <td>0</td>\n",
       "    </tr>\n",
       "  </tbody>\n",
       "</table>\n",
       "<p>447 rows × 14 columns</p>\n",
       "</div>"
      ],
      "text/plain": [
       "             ID   Precio  Tipo N Habitaciones   m2  \\\n",
       "84     85449897  579.000  Piso              5  131   \n",
       "111    97322351  109.900  Piso    Desconocido   27   \n",
       "153    97286762  156.000  Piso              1   29   \n",
       "245    95895760  685.000  Piso              3  103   \n",
       "253    95806565  490.000  Piso              2   74   \n",
       "...         ...      ...   ...            ...  ...   \n",
       "19284  96323505  466.500  Piso              2   87   \n",
       "19285  93589718  433.000  Piso              2   87   \n",
       "19286  94211075  497.000  Piso              2  100   \n",
       "19295  95613429  450.000  Piso              2  180   \n",
       "19298  94480921  410.000  Piso              2   87   \n",
       "\n",
       "                                              Comentario       Zona  \\\n",
       "84     [Vivienda2 os brinda la oportunidad de inverti...     Centro   \n",
       "111    [Redpiso pone a la venta Estudio ACONDICIONADO...     Centro   \n",
       "153    [Redpiso San Bernardo, vende acogedor apartame...     Centro   \n",
       "245    [Piso reformado a estrenar Engel&amp;Voelkers ...     Centro   \n",
       "253    [Vivienda Reformada en Malasaña Engel&amp;Voel...     Centro   \n",
       "...                                                  ...        ...   \n",
       "19284  [Magnífico piso de obra nueva en Madrid, perfe...  Hortaleza   \n",
       "19285  [Fantástico piso de obra nueva en Madrid, idea...  Hortaleza   \n",
       "19286  [Fabuloso piso de obra nueva en Madrid, perfec...  Hortaleza   \n",
       "19295  [Colibree presenta asombroso loft reformado in...  Hortaleza   \n",
       "19298  [Estupendo piso de obra nueva en Madrid, idóne...  Hortaleza   \n",
       "\n",
       "                              Subzona  \\\n",
       "84               Malasaña-Universidad   \n",
       "111              Malasaña-Universidad   \n",
       "153              Malasaña-Universidad   \n",
       "245              Malasaña-Universidad   \n",
       "253              Malasaña-Universidad   \n",
       "...                               ...   \n",
       "19284  Virgen del Cortijo - Manoteras   \n",
       "19285  Virgen del Cortijo - Manoteras   \n",
       "19286  Virgen del Cortijo - Manoteras   \n",
       "19295  Virgen del Cortijo - Manoteras   \n",
       "19298  Virgen del Cortijo - Manoteras   \n",
       "\n",
       "                                                    Info  \\\n",
       "84          131 m²   5 hab.    exterior con ascensor       \n",
       "111                   27 m²    exterior sin ascensor       \n",
       "153                   29 m²   1 hab.    sin ascensor       \n",
       "245         103 m²   3 hab.    exterior sin ascensor       \n",
       "253          74 m²   2 hab.    exterior con ascensor       \n",
       "...                                                  ...   \n",
       "19284                   Obra nueva    87 m²   2 hab.       \n",
       "19285                   Obra nueva    87 m²   2 hab.       \n",
       "19286                  Obra nueva    100 m²   2 hab.       \n",
       "19295    180 m²   2 hab.    exterior sin ascensor   G...   \n",
       "19298                   Obra nueva    87 m²   2 hab.       \n",
       "\n",
       "                                            Mas detalles  \\\n",
       "84     [131 m² construidos, 117 m² útiles, 5 habitaci...   \n",
       "111    [27 m² construidos, Sin habitación, 1 baño, Se...   \n",
       "153    [29 m² construidos, 1 habitación, 1 baño, Segu...   \n",
       "245    [103 m² construidos, 93 m² útiles, 3 habitacio...   \n",
       "253    [74 m² construidos, 57 m² útiles, 2 habitacion...   \n",
       "...                                                  ...   \n",
       "19284  [87 m² construidos, 76 m² útiles, 2 habitacion...   \n",
       "19285  [87 m² construidos, 76 m² útiles, 2 habitacion...   \n",
       "19286  [100 m² construidos, 85 m² útiles, 2 habitacio...   \n",
       "19295  [180 m² construidos, 2 habitaciones, 2 baños, ...   \n",
       "19298  [87 m² construidos, 76 m² útiles, 2 habitacion...   \n",
       "\n",
       "                                        Comentario_lower  \\\n",
       "84     b'[vivienda2 os brinda la oportunidad de inver...   \n",
       "111    b'[redpiso pone a la venta estudio acondiciona...   \n",
       "153    b'[redpiso san bernardo, vende acogedor aparta...   \n",
       "245    b'[piso reformado a estrenar engel&amp;voelker...   \n",
       "253    b'[vivienda reformada en malasana engel&amp;vo...   \n",
       "...                                                  ...   \n",
       "19284  b'[magnifico piso de obra nueva en madrid, per...   \n",
       "19285  b'[fantastico piso de obra nueva en madrid, id...   \n",
       "19286  b'[fabuloso piso de obra nueva en madrid, perf...   \n",
       "19295  b'[colibree presenta asombroso loft reformado ...   \n",
       "19298  b'[estupendo piso de obra nueva en madrid, ido...   \n",
       "\n",
       "                                      Mas detalles_lower  \\\n",
       "84     b'[131 m2 construidos, 117 m2 utiles, 5 habita...   \n",
       "111    b'[27 m2 construidos, sin habitacion, 1 bano, ...   \n",
       "153    b'[29 m2 construidos, 1 habitacion, 1 bano, se...   \n",
       "245    b'[103 m2 construidos, 93 m2 utiles, 3 habitac...   \n",
       "253    b'[74 m2 construidos, 57 m2 utiles, 2 habitaci...   \n",
       "...                                                  ...   \n",
       "19284  b'[87 m2 construidos, 76 m2 utiles, 2 habitaci...   \n",
       "19285  b'[87 m2 construidos, 76 m2 utiles, 2 habitaci...   \n",
       "19286  b'[100 m2 construidos, 85 m2 utiles, 2 habitac...   \n",
       "19295  b'[180 m2 construidos, 2 habitaciones, 2 banos...   \n",
       "19298  b'[87 m2 construidos, 76 m2 utiles, 2 habitaci...   \n",
       "\n",
       "                                              Info_lower Planta  \n",
       "84     b'  131 m2   5 hab.    exterior con ascensor    '      0  \n",
       "111              b'  27 m2    exterior sin ascensor    '      0  \n",
       "153              b'  29 m2   1 hab.    sin ascensor    '      0  \n",
       "245    b'  103 m2   3 hab.    exterior sin ascensor    '      0  \n",
       "253     b'  74 m2   2 hab.    exterior con ascensor    '      0  \n",
       "...                                                  ...    ...  \n",
       "19284             b'   obra nueva    87 m2   2 hab.    '      0  \n",
       "19285             b'   obra nueva    87 m2   2 hab.    '      0  \n",
       "19286            b'   obra nueva    100 m2   2 hab.    '      0  \n",
       "19295  b'  180 m2   2 hab.    exterior sin ascensor  ...      0  \n",
       "19298             b'   obra nueva    87 m2   2 hab.    '      0  \n",
       "\n",
       "[447 rows x 14 columns]"
      ]
     },
     "execution_count": 26,
     "metadata": {},
     "output_type": "execute_result"
    }
   ],
   "source": [
    "data[(data['Planta'] == '0') & (data['Tipo'] == 'Piso')]"
   ]
  },
  {
   "cell_type": "markdown",
   "id": "28ca33a6",
   "metadata": {
    "id": "467e9087"
   },
   "source": [
    "## Creación de campo Cantidad de plantas\n",
    "\n",
    "Alguno de los pisos que se ofertan poseen en el campo Comentario indicaciones de que se trata de un duplex o triplex en algún caso, guardaremos este dato y lo añadiremos en un campo Cantidad de plantas. Este campo será 1 para todos los pisos excepto aquellos que posean más."
   ]
  },
  {
   "cell_type": "code",
   "execution_count": 27,
   "id": "868d69c9",
   "metadata": {},
   "outputs": [
    {
     "name": "stdout",
     "output_type": "stream",
     "text": [
      "Cantidad de valores rellenados con valor 2: 978\n",
      "Cantidad de valores rellenados con valor 3: 49\n"
     ]
    }
   ],
   "source": [
    "# Buscamos pisos de nuevo, la mayoría de restantes serán de este tipo\n",
    "# si incluyen el número de planta en el comentario, debería de tratarse de un piso\n",
    "data['Cantidad de plantas'] = 1\n",
    "\n",
    "condition_list = []\n",
    "words_searched = ['duplex', 'vivienda de dos plantas', 'se compone de dos plantas', 'vivienda de dos pisos', \n",
    "                  'se compone de dos pisos', 'chale de dos pisos', 'finca de dos pisos', 'chale de dos plantas', \n",
    "                  'finca de dos plantas']\n",
    "condition_list.append(search_words_in_df(data, ['Comentario_lower'], words_searched))\n",
    "data = apply_conditions(data, condition_list, 2, 'Cantidad de plantas', 1)\n",
    "\n",
    "\n",
    "condition_list = []\n",
    "words_searched = ['triplex', 'vivienda de tres plantas', 'se compone de tres plantas', 'vivienda de tres pisos', \n",
    "                  'se compone de tres pisos', 'chale de tres pisos', 'finca de tres pisos', 'chale de tres plantas', \n",
    "                  'finca de tres plantas']\n",
    "condition_list.append(search_words_in_df(data, ['Comentario_lower'], words_searched))\n",
    "data = apply_conditions(data, condition_list, 3, 'Cantidad de plantas', 1)"
   ]
  },
  {
   "cell_type": "markdown",
   "id": "52dcb9f0",
   "metadata": {
    "id": "99060922"
   },
   "source": [
    "## Piscina\n",
    "Comprobación de en donde podemos encontrar el elemento piscina"
   ]
  },
  {
   "cell_type": "code",
   "execution_count": 28,
   "id": "49dd2e6d",
   "metadata": {},
   "outputs": [
    {
     "name": "stdout",
     "output_type": "stream",
     "text": [
      "0\n",
      "3100\n",
      "566\n"
     ]
    }
   ],
   "source": [
    "## Comprobación campo Info\n",
    "print(sum(data[\"Info_lower\"].apply(lambda x : 1 if 'piscina' in x else 0)))\n",
    "## Comprobación campo Mas detalles\n",
    "print(sum(data[\"Mas detalles_lower\"].apply(lambda x : 1 if 'piscina' in x else 0)))\n",
    "## Comprobación campo Comentario, sin tenr en cuenta los encontrados en Mas detalles\n",
    "print(sum(data.apply(lambda x : 1 if 'piscina' in x[\"Comentario_lower\"] and 'piscina' not in x[\"Mas detalles_lower\"] else 0, axis = 1)))"
   ]
  },
  {
   "cell_type": "markdown",
   "id": "ff65995a",
   "metadata": {},
   "source": [
    "### Mas detalle piscina\n",
    "Estudio de las apariciones de piscina en el campo Mas detalles extrayendo las dos palabras anteriores para dar contexto"
   ]
  },
  {
   "cell_type": "code",
   "execution_count": 29,
   "id": "8390be5e",
   "metadata": {},
   "outputs": [],
   "source": [
    "## función que aporta una serie de palabras que rodean la buscada para poder sacar un contexto de su uso.\n",
    "## Lo que intenta es siempre dar las n(words_for_context) palabbras previas más la buscada, pero en caso de que no pueda\n",
    "## debido a que la ubicación de la palabra en la frase es menor que las palabras previas que se piden, aportará todas las \n",
    "## previas que pueda y las restantes palabras posteriores Ejemplo.- Para la frase \"Tiene piscina y garaje\",\n",
    "## si queremos aportar las dos palabras previas a pisina no podemos ya que solo posee 1, por tanto, en este caso nos devolverá:\n",
    "## \"Tiene piscina y\"\n",
    "def search_context(value, sentence, words_for_context = 2):\n",
    "    any_word = ['[^ ]*']\n",
    "    for i in range(words_for_context + 1):\n",
    "        words_before = any_word*(words_for_context - i)\n",
    "        words_after = any_word*(i)\n",
    "        regex = words_before + [value] + words_after\n",
    "        regex = \" \".join(regex)\n",
    "        regex = re.search(regex, sentence)\n",
    "        if regex is not None:\n",
    "            return regex[0]\n",
    "    return \"FAIL\"\n",
    "\n",
    "def is_in_good_context(sentence, context_list):\n",
    "    for context_word in context_list:\n",
    "        if re.search(context_word, sentence) is not None: \n",
    "            return 1\n",
    "    return 0"
   ]
  },
  {
   "cell_type": "code",
   "execution_count": 30,
   "id": "f5c79f0a",
   "metadata": {
    "scrolled": false
   },
   "outputs": [
    {
     "data": {
      "text/plain": [
       "array(['0', 'aire acondicionado, piscina', 'con ascensor, piscina',\n",
       "       'calefaccion individual, piscina', 'sin ascensor, piscina',\n",
       "       'gas natural, piscina', 'nueva, trastero, piscina',\n",
       "       'orientacion oeste, piscina', 'en 1962, piscina',\n",
       "       'movilidad reducida, piscina', 'de calefaccion, piscina',\n",
       "       'norte, sur, piscina', 'en 1965, piscina',\n",
       "       'mano/para reformar, piscina', 'central: gasoil, piscina',\n",
       "       'este, oeste, piscina', 'obra nueva, piscina', 'en 1941, piscina',\n",
       "       'armarios empotrados, piscina', 'en 2003, piscina',\n",
       "       'orientacion sur, piscina', 'gas propano/butano, piscina',\n",
       "       'mano/buen estado, piscina', 'en 2018, piscina',\n",
       "       'en 2016, piscina', 'de frio/calor, piscina',\n",
       "       'calefaccion central, piscina', 'en 1966, piscina',\n",
       "       'en 1992, piscina', 'individual: electrica, piscina',\n",
       "       'en 2005, piscina', 'estado, trastero, piscina',\n",
       "       'empotrados, trastero, piscina', 'individual: gasoil, piscina',\n",
       "       'en 2006, piscina', 'en 2008, piscina', 'en 1800, piscina',\n",
       "       'en 1973, piscina', 'en 1989, piscina', 'en 1991, piscina'],\n",
       "      dtype=object)"
      ]
     },
     "execution_count": 30,
     "metadata": {},
     "output_type": "execute_result"
    }
   ],
   "source": [
    "data[\"Mas detalles_lower\"].apply(lambda x : search_context(\"piscina\", x) if 'piscina' in x else \"0\").unique()"
   ]
  },
  {
   "cell_type": "markdown",
   "id": "907af98b",
   "metadata": {},
   "source": [
    "La aportación del unique nos da una serie de resultados que permiten catalogar manualmente como positivos todas las entradas que poseen la palabra piscina. "
   ]
  },
  {
   "cell_type": "code",
   "execution_count": 31,
   "id": "7775daf8",
   "metadata": {},
   "outputs": [],
   "source": [
    "data[\"Piscina\"] = data[\"Mas detalles_lower\"].apply(lambda x : 1 if 'piscina' in x else 0)"
   ]
  },
  {
   "cell_type": "markdown",
   "id": "5e64082b",
   "metadata": {},
   "source": [
    "### Comentario piscina\n",
    "Estudio de los casos en los que aparece piscina en el comentario, pero que todavía no se tienen en cuenta"
   ]
  },
  {
   "cell_type": "code",
   "execution_count": 32,
   "id": "f63e9c77",
   "metadata": {},
   "outputs": [
    {
     "name": "stdout",
     "output_type": "stream",
     "text": [
      "  piscina appears 6\n",
      " la piscina appears 1\n",
      "( gofit, piscina appears 1\n",
      "(25.000)  piscina appears 1\n",
      "(arboles, jardines, piscina appears 1\n",
      "(opcional) y piscina appears 5\n",
      "), colegios, piscina appears 1\n",
      "0 appears 18785\n",
      "1.091m2 con piscina appears 1\n",
      "1.435m2 con piscina appears 1\n",
      "10, gimnasio, piscina appears 1\n",
      "2 grandes piscina appears 1\n",
      "24 horas, piscina appears 2\n",
      "4 ascensores, piscina appears 1\n",
      "500 m2, piscina appears 1\n",
      "50m con piscina appears 1\n",
      "6 vehiculos. piscina appears 1\n",
      "80m2 y piscina appears 1\n",
      "FAIL appears 2\n",
      "a la piscina appears 11\n",
      "a lado. piscina appears 1\n",
      "acceso a piscina appears 1\n",
      "ajardinada y piscina appears 4\n",
      "ajardinadas con piscina appears 1\n",
      "ajardinadas y piscina appears 2\n",
      "almacenamiento, barbacoa, piscina appears 1\n",
      "anejo y piscina appears 1\n",
      "ascensor interior, piscina appears 1\n",
      "ascensor y piscina appears 14\n",
      "ascensores,  piscina appears 1\n",
      "atletismo, polideportivo, piscina appears 1\n",
      "baloncesto, dos piscina appears 1\n",
      "cagigal (con piscina appears 1\n",
      "central con piscina appears 8\n",
      "cerca de piscina appears 3\n",
      "cercado con piscina appears 1\n",
      "cercanias, autobuses, piscina appears 1\n",
      "cerrada con piscina appears 8\n",
      "colegios, polideportivos, piscina appears 1\n",
      "como la piscina appears 1\n",
      "comun con piscina appears 4\n",
      "comunes con piscina appears 12\n",
      "comunes y piscina appears 1\n",
      "comunes: jardin, piscina appears 1\n",
      "comunidad tiene piscina appears 1\n",
      "comunitaria con piscina appears 1\n",
      "comunitario, y piscina appears 1\n",
      "con ascensor, piscina appears 3\n",
      "con bonita piscina appears 1\n",
      "con conserje, piscina appears 1\n",
      "con garaje piscina appears 1\n",
      "con garaje, piscina appears 4\n",
      "con jardin, piscina appears 3\n",
      "con multiples piscina appears 1\n",
      "con pequena piscina appears 1\n",
      "con una piscina appears 6\n",
      "con varias piscina appears 1\n",
      "consolidada y piscina appears 1\n",
      "consolidado y piscina appears 1\n",
      "construir una piscina appears 4\n",
      "contando con piscina appears 3\n",
      "contar con piscina appears 1\n",
      "contaran con piscina appears 1\n",
      "cuenta con piscina appears 11\n",
      "cuidados jardines, piscina appears 1\n",
      "de 2 piscina appears 3\n",
      "de ascensor, piscina appears 5\n",
      "de carabanchel. piscina appears 1\n",
      "de conserje, piscina appears 1\n",
      "de construccion, piscina appears 1\n",
      "de correos, piscina appears 1\n",
      "de hacer piscina appears 4\n",
      "de jardines, piscina appears 1\n",
      "de la piscina appears 2\n",
      "de madrid, piscina appears 1\n",
      "de padel, piscina appears 4\n",
      "de sotano, piscina appears 1\n",
      "de una piscina appears 1\n",
      "de vapor, piscina appears 1\n",
      "de verano, piscina appears 1\n",
      "de vida: piscina appears 7\n",
      "de4 las piscina appears 1\n",
      "del barrio, piscina appears 1\n",
      "deportivas, con piscina appears 1\n",
      "deportivas, gimnasios, piscina appears 1\n",
      "deportivas, hospitales, piscina appears 1\n",
      "deportivas: varias piscina appears 1\n",
      "deportivo amoros. piscina appears 3\n",
      "deportivo con piscina appears 1\n",
      "deportivo y piscina appears 1\n",
      "disfrutar de piscina appears 5\n",
      "dispone de piscina appears 2\n",
      "disponer de piscina appears 1\n",
      "dispones de piscina appears 2\n",
      "donde encontrara piscina appears 1\n",
      "dormitorios, con piscina appears 2\n",
      "dos banos. piscina appears 1\n",
      "dotada de piscina appears 10\n",
      "duplex con piscina appears 5\n",
      "duplex, con piscina appears 1\n",
      "ejercicio, con piscina appears 2\n",
      "emperatriz y piscina appears 1\n",
      "en la piscina appears 3\n",
      "encontramos una piscina appears 1\n",
      "energia. con piscina appears 1\n",
      "equipado con piscina appears 1\n",
      "exterior con piscina appears 1\n",
      "fantasticas instalaciones: piscina appears 5\n",
      "finca con piscina appears 3\n",
      "finca sin piscina appears 1\n",
      "fisico, ascensor, piscina appears 1\n",
      "garaje y piscina appears 1\n",
      "gimnasio con piscina appears 2\n",
      "gimnasio y piscina appears 1\n",
      "gimnasios y piscina appears 1\n",
      "goza de piscina appears 1\n",
      "grandes dimensiones, piscina appears 1\n",
      "h fisica, piscina appears 1\n",
      "habia una piscina appears 1\n",
      "hacer una piscina appears 2\n",
      "hernandez, gimnasios, piscina appears 1\n",
      "independiente con piscina appears 5\n",
      "instalaciones deportivas, piscina appears 1\n",
      "instalar jardines, piscina appears 14\n",
      "instalar una piscina appears 1\n",
      "institutos, supermercados, piscina appears 1\n",
      "jardin comun, piscina appears 2\n",
      "jardin con piscina appears 7\n",
      "jardin y piscina appears 9\n",
      "jardines  piscina appears 2\n",
      "jardines mediterraneos, piscina appears 1\n",
      "jardines y piscina appears 6\n",
      "jardines, y piscina appears 2\n",
      "la azotea, piscina appears 3\n",
      "las inmediaciones. piscina appears 1\n",
      "los servicios. piscina appears 11\n",
      "lujo con piscina appears 1\n",
      "luminoso con piscina appears 1\n",
      "m2 con piscina appears 2\n",
      "m2.  piscina appears 1\n",
      "madrid rio, piscina appears 1\n",
      "maria, supermecados, piscina appears 1\n",
      "maxima seguridad, piscina appears 6\n",
      "mercado tradicional, piscina appears 1\n",
      "mismo edificio. piscina appears 1\n",
      "municipal (con piscina appears 1\n",
      "municipal con piscina appears 3\n",
      "no tiene piscina appears 1\n",
      "o refrescantes piscina appears 1\n",
      "obra. con piscina appears 2\n",
      "padel y piscina appears 2\n",
      "para bicicletas, piscina appears 10\n",
      "para deporte, piscina appears 1\n",
      "para una piscina appears 1\n",
      "parque infantil, piscina appears 3\n",
      "paso y piscina appears 1\n",
      "patio y piscina appears 1\n",
      "pequenos y piscina appears 1\n",
      "piso con piscina appears 9\n",
      "pocos metros piscina appears 1\n",
      "polideportivo con piscina appears 7\n",
      "polideportivo vallehermoso, piscina appears 2\n",
      "poner una piscina appears 1\n",
      "porche y piscina appears 1\n",
      "porteria y piscina appears 1\n",
      "portero fisico, piscina appears 1\n",
      "posibilidad de piscina appears 2\n",
      "pre-instalacion de piscina appears 1\n",
      "privada con piscina appears 8\n",
      "privada, con piscina appears 2\n",
      "privado con piscina appears 1\n",
      "privado y piscina appears 7\n",
      "privilegiada con piscina appears 7\n",
      "proyecto de piscina appears 1\n",
      "pueden incluir piscina appears 9\n",
      "que incluye piscina appears 2\n",
      "que incluyen, piscina appears 1\n",
      "reducida.  piscina appears 1\n",
      "restauracion, la piscina appears 1\n",
      "rodean la piscina appears 1\n",
      "servicios centrales, piscina appears 1\n",
      "solarium, una piscina appears 1\n",
      "suanzes con piscina appears 1\n",
      "suelo radiante, piscina appears 2\n",
      "suite, terraza, piscina appears 1\n",
      "supermercados, farmacia, piscina appears 1\n",
      "supermercados, iglesias, piscina appears 1\n",
      "sus dos piscina appears 4\n",
      "tendedero y piscina appears 1\n",
      "tenis, paddel, piscina appears 1\n",
      "tenis-padel y piscina appears 1\n",
      "terraza con piscina appears 1\n",
      "terrazas, con piscina appears 3\n",
      "trastero y piscina appears 7\n",
      "trastero.  piscina appears 1\n",
      "trasteros con piscina appears 2\n",
      "tres polideportivos, piscina appears 4\n",
      "tu propia piscina appears 4\n",
      "ubicar una piscina appears 2\n",
      "un colegio, piscina appears 1\n",
      "una amplia piscina appears 1\n",
      "una gran piscina appears 1\n",
      "una magnifica piscina appears 9\n",
      "una pequena piscina appears 3\n",
      "una refrescante piscina appears 1\n",
      "urbanizacion con piscina appears 15\n",
      "vallehermoso con piscina appears 1\n",
      "ventanal y piscina appears 2\n",
      "verdes ajardinados, piscina appears 1\n",
      "verdes y piscina appears 1\n",
      "vivienda.  piscina appears 1\n",
      "vivir, con piscina appears 3\n",
      "y con piscina appears 2\n",
      "y la piscina appears 9\n",
      "y trastero. piscina appears 1\n",
      "y una piscina appears 3\n",
      "zona de piscina appears 2\n",
      "zona deportiva, piscina appears 1\n",
      "zona infantil, piscina appears 1\n",
      "zona, con piscina appears 1\n",
      "zonas ajardinadas, piscina appears 1\n",
      "zonas comunes, piscina appears 17\n",
      "zonas comunes: piscina appears 4\n",
      "zonas de piscina appears 1\n",
      "zonas deportivas, piscina appears 1\n"
     ]
    }
   ],
   "source": [
    "piscina_comment = data.apply(lambda x : search_context(\"piscina\", x[\"Comentario_lower\"]) if 'piscina' not in x[\"Mas detalles_lower\"] and 'piscina' in x[\"Comentario_lower\"] else \"0\", axis = 1)\n",
    "num_ocurrence = np.unique(piscina_comment, return_counts=True)\n",
    "for item, sentence in enumerate(num_ocurrence[0]):\n",
    "    print(f'{sentence} appears {num_ocurrence[1][item]}')"
   ]
  },
  {
   "cell_type": "markdown",
   "id": "1b614396",
   "metadata": {},
   "source": [
    "Además de aumentar el número de posibles resultados, se intuye que algunos hacen referencia a piscinas cercanas y no de la propia vivienda, así que no se puede dar por hecho que la existencia de la palabra piscina implique que la posea.\n",
    "Estudiamos los casos más sospechosos a mano."
   ]
  },
  {
   "cell_type": "markdown",
   "id": "194219cc",
   "metadata": {},
   "source": [
    "Empezamos añadiendo los match que posean una palabra clave, que implique que se está hablando de la vivienda en ese contexto:"
   ]
  },
  {
   "cell_type": "code",
   "execution_count": 33,
   "id": "b1e9ffda",
   "metadata": {},
   "outputs": [],
   "source": [
    "good_context_list = [\"urbanizacion\", \"garaje\", \"terraza\", \"trastero\" , \"zonas comunes\", \"ascensor\", \"sotano\", \"tendedero\"]\n",
    "data[\"Piscina\"] = data.apply(lambda x : is_in_good_context(search_context('piscina', x[\"Comentario_lower\"], 6), good_context_list) \n",
    "                             if x[\"Piscina\"] == 0 and 'piscina' in x[\"Comentario_lower\"] else x[\"Piscina\"], axis = 1)\n"
   ]
  },
  {
   "cell_type": "code",
   "execution_count": 34,
   "id": "6ff677b6",
   "metadata": {},
   "outputs": [
    {
     "data": {
      "text/plain": [
       "638"
      ]
     },
     "execution_count": 34,
     "metadata": {},
     "output_type": "execute_result"
    }
   ],
   "source": [
    "sum(data[data['Piscina']==1]['Tipo']=='Chalet')"
   ]
  },
  {
   "cell_type": "markdown",
   "id": "4b29185d",
   "metadata": {},
   "source": [
    "Dado el resultado, se da por buena la aproximación de los datos extraidos, aún sabiendo que podría mejorarse. Se considera que el esfuerzo para realizar un filtro mejor no compensa con la poca aportación que daría."
   ]
  },
  {
   "cell_type": "markdown",
   "id": "3abd4d13",
   "metadata": {},
   "source": [
    "## Ascensor\n",
    "Comprobación de en donde podemos encontrar el elemento ascensor"
   ]
  },
  {
   "cell_type": "code",
   "execution_count": 35,
   "id": "e56df35e",
   "metadata": {},
   "outputs": [
    {
     "name": "stdout",
     "output_type": "stream",
     "text": [
      "17908\n",
      "0\n",
      "274\n"
     ]
    }
   ],
   "source": [
    "element_to_search = 'ascensor'\n",
    "## Comprobación campo Info\n",
    "print(sum(data[\"Info_lower\"].apply(lambda x : 1 if element_to_search in x else 0)))\n",
    "## Comprobación campo Mas detalles, sin tener en cuenta los encontrados en Info\n",
    "print(sum(data.apply(lambda x : 1 if element_to_search in x[\"Mas detalles_lower\"] and element_to_search not in x[\"Info_lower\"] else 0, axis = 1)))\n",
    "## Comprobación campo Comentario, sin tenr en cuenta los encontrados en Mas detalles\n",
    "print(sum(data.apply(lambda x : 1 if element_to_search in x[\"Comentario_lower\"] and element_to_search not in x[\"Mas detalles_lower\"] else 0, axis = 1)))"
   ]
  },
  {
   "cell_type": "markdown",
   "id": "1c2b7cc5",
   "metadata": {},
   "source": [
    "### Info ascensor\n",
    "Estudio de las apariciones de ascensor en el campo Info extrayendo la palabra anterior para dar contexto"
   ]
  },
  {
   "cell_type": "code",
   "execution_count": 36,
   "id": "67ae83f3",
   "metadata": {},
   "outputs": [
    {
     "data": {
      "text/plain": [
       "array(['con ascensor', 'sin ascensor', 0], dtype=object)"
      ]
     },
     "execution_count": 36,
     "metadata": {},
     "output_type": "execute_result"
    }
   ],
   "source": [
    "data[\"Info_lower\"].apply(lambda x : search_context(element_to_search, x, words_for_context = 1) if element_to_search in x else 0).unique()"
   ]
  },
  {
   "cell_type": "markdown",
   "id": "4e3cd655",
   "metadata": {},
   "source": [
    "La aportación del unique nos da una serie de resultados que permiten catalogar manualmente como positivos todos las entradas que poseen la palabra con ascensor."
   ]
  },
  {
   "cell_type": "code",
   "execution_count": 37,
   "id": "87e65897",
   "metadata": {},
   "outputs": [],
   "source": [
    "data[\"Ascensor\"] = data[\"Info_lower\"].apply(lambda x : 1 if 'con ascensor' in x else 0)"
   ]
  },
  {
   "cell_type": "markdown",
   "id": "8cd9097b",
   "metadata": {},
   "source": [
    "### Comentario ascensor\n",
    "\n",
    "Estudio de los casos en los que aparece ascensor en el comentario, pero que todavía no se tienen en cuenta\n"
   ]
  },
  {
   "cell_type": "code",
   "execution_count": 38,
   "id": "8d1977a2",
   "metadata": {},
   "outputs": [
    {
     "name": "stdout",
     "output_type": "stream",
     "text": [
      " ascensor appears 3\n",
      "0 appears 19077\n",
      "automatico, ascensor appears 5\n",
      "blindados, ascensor appears 1\n",
      "calidades. ascensor appears 2\n",
      "coches, ascensor appears 1\n",
      "como ascensor appears 2\n",
      "comodidades: ascensor appears 1\n",
      "comodo ascensor appears 2\n",
      "con ascensor appears 41\n",
      "conductos, ascensor appears 1\n",
      "cristal, ascensor appears 1\n",
      "de ascensor appears 39\n",
      "del ascensor appears 2\n",
      "dia, ascensor appears 1\n",
      "domotizada. ascensor appears 1\n",
      "dos ascensor appears 1\n",
      "el ascensor appears 8\n",
      "electricos ascensor appears 1\n",
      "en ascensor appears 1\n",
      "entrada, ascensor appears 1\n",
      "estupendo ascensor appears 2\n",
      "exclusividad. ascensor appears 2\n",
      "frio/calor. ascensor appears 1\n",
      "fuerte, ascensor appears 1\n",
      "gabanero, ascensor appears 1\n",
      "guardillas ascensor appears 1\n",
      "hacer ascensor appears 1\n",
      "hay ascensor appears 1\n",
      "incluye ascensor appears 2\n",
      "incorporado. ascensor appears 1\n",
      "instalado ascensor appears 1\n",
      "instalar ascensor appears 2\n",
      "jardin, ascensor appears 1\n",
      "liso, ascensor appears 1\n",
      "madera. ascensor appears 1\n",
      "mediante ascensor appears 1\n",
      "mejoras, ascensor appears 1\n",
      "metros, ascensor appears 1\n",
      "metros. ascensor appears 1\n",
      "natural, ascensor appears 1\n",
      "neff, ascensor appears 1\n",
      "office, ascensor appears 1\n",
      "opcional ascensor appears 1\n",
      "para ascensor appears 1\n",
      "parking. ascensor appears 1\n",
      "parquet, ascensor appears 1\n",
      "planta, ascensor appears 1\n",
      "por ascensor appears 6\n",
      "portero, ascensor appears 1\n",
      "posee ascensor appears 2\n",
      "practico ascensor appears 1\n",
      "seguridad. ascensor appears 1\n",
      "sin ascensor appears 64\n",
      "solares. ascensor appears 1\n",
      "spa, ascensor appears 1\n",
      "tiene ascensor appears 7\n",
      "un ascensor appears 20\n",
      "y ascensor appears 24\n"
     ]
    }
   ],
   "source": [
    "ascensor_comment = data.apply(lambda x : search_context(element_to_search, x[\"Comentario_lower\"], 1) if element_to_search not in x[\"Info_lower\"] and element_to_search in x[\"Comentario_lower\"] else \"0\", axis = 1)\n",
    "num_ocurrence = np.unique(ascensor_comment, return_counts=True)\n",
    "for item, sentence in enumerate(num_ocurrence[0]):\n",
    "    print(f'{sentence} appears {num_ocurrence[1][item]}')"
   ]
  },
  {
   "cell_type": "markdown",
   "id": "63d603a3",
   "metadata": {},
   "source": [
    "Nuevamente en los comentarios, no se ve tan fácil si existe o no ascensor, pero el número de ocurrencias es mucho menor, siendo casi posible realizar la separación manualmente."
   ]
  },
  {
   "cell_type": "code",
   "execution_count": 39,
   "id": "4a0b962a",
   "metadata": {},
   "outputs": [],
   "source": [
    "good_context_list = [\"con\", \"tiene\"]\n",
    "data[\"Ascensor\"] = data.apply(lambda x : is_in_good_context(search_context(element_to_search, x[\"Comentario_lower\"], 1), good_context_list) \n",
    "                             if x[\"Ascensor\"] == 0 and element_to_search in x[\"Comentario_lower\"] else x[\"Ascensor\"], axis = 1)"
   ]
  },
  {
   "cell_type": "markdown",
   "id": "3e5bc748",
   "metadata": {},
   "source": [
    "## Garaje\n",
    "Comprobación de en donde podemos encontrar el elemento garaje"
   ]
  },
  {
   "cell_type": "code",
   "execution_count": 40,
   "id": "0bb31d7d",
   "metadata": {},
   "outputs": [
    {
     "name": "stdout",
     "output_type": "stream",
     "text": [
      "5549\n",
      "0\n",
      "1062\n"
     ]
    }
   ],
   "source": [
    "element_to_search = 'garaje'\n",
    "## Comprobación campo Info\n",
    "print(sum(data[\"Info_lower\"].apply(lambda x : 1 if element_to_search in x else 0)))\n",
    "## Comprobación campo Mas detalles, sin tenr en cuenta los encontrados en Info\n",
    "print(sum(data.apply(lambda x : 1 if element_to_search in x[\"Mas detalles_lower\"] and element_to_search not in x[\"Info_lower\"] else 0, axis = 1)))\n",
    "## Comprobación campo Comentario, sin tenr en cuenta los encontrados en Mas detalles\n",
    "print(sum(data.apply(lambda x : 1 if element_to_search in x[\"Comentario_lower\"] and element_to_search not in x[\"Mas detalles_lower\"] else 0, axis = 1)))"
   ]
  },
  {
   "cell_type": "markdown",
   "id": "b48e32ee",
   "metadata": {},
   "source": [
    "### Info garaje\n",
    "Estudio de las apariciones de garaje en el campo Info extrayendo la palabra anterior para dar contexto"
   ]
  },
  {
   "cell_type": "code",
   "execution_count": 41,
   "id": "655a04db",
   "metadata": {},
   "outputs": [
    {
     "data": {
      "text/plain": [
       "array(['ascensor   garaje', 0, 'hab.   garaje', '2a   garaje',\n",
       "       'exterior   garaje', '1a   garaje', '3a   garaje', 'm2   garaje'],\n",
       "      dtype=object)"
      ]
     },
     "execution_count": 41,
     "metadata": {},
     "output_type": "execute_result"
    }
   ],
   "source": [
    "data[\"Info_lower\"].apply(lambda x : search_context(element_to_search, x, words_for_context = 3) if element_to_search in x else 0).unique()"
   ]
  },
  {
   "cell_type": "markdown",
   "id": "86a30c64",
   "metadata": {},
   "source": [
    "La aportación del unique nos da una serie de resultados que permiten catalogar manualmente como positivos todos las entradas que poseen la palabra con garaje."
   ]
  },
  {
   "cell_type": "markdown",
   "id": "0c4ab87c",
   "metadata": {},
   "source": [
    "### Comentario garaje\n",
    "\n",
    "Estudio de los casos en los que aparece garaje en el comentario, pero que todavía no se tienen en cuenta"
   ]
  },
  {
   "cell_type": "code",
   "execution_count": 42,
   "id": "9512619c",
   "metadata": {},
   "outputs": [],
   "source": [
    "data[\"Garaje\"] = data[\"Info_lower\"].apply(lambda x : 1 if element_to_search in x else 0)"
   ]
  },
  {
   "cell_type": "code",
   "execution_count": 43,
   "id": "0f6f5325",
   "metadata": {
    "scrolled": true
   },
   "outputs": [
    {
     "name": "stdout",
     "output_type": "stream",
     "text": [
      " garaje appears 11\n",
      "(dia/noche), garaje appears 1\n",
      "- garaje appears 1\n",
      "/ garaje appears 4\n",
      "0 appears 18289\n",
      "2 garaje appears 1\n",
      "3). garaje appears 1\n",
      "a garaje appears 14\n",
      "adquirir garaje appears 3\n",
      "al garaje appears 12\n",
      "alquilar garaje appears 5\n",
      "amplio garaje appears 2\n",
      "ascensor, garaje appears 4\n",
      "ascensor. garaje appears 1\n",
      "baja: garaje appears 1\n",
      "bano. garaje appears 1\n",
      "banos, garaje appears 3\n",
      "blindada, garaje appears 1\n",
      "calderas, garaje appears 1\n",
      "casa, garaje appears 1\n",
      "central garaje appears 1\n",
      "cocina. garaje appears 1\n",
      "como garaje appears 2\n",
      "comodo garaje appears 1\n",
      "comunicado. garaje appears 1\n",
      "con garaje appears 22\n",
      "con, garaje appears 1\n",
      "con: garaje appears 4\n",
      "conductos, garaje appears 1\n",
      "conserje garaje appears 1\n",
      "de garaje appears 797\n",
      "desde garaje appears 1\n",
      "despensa. garaje appears 1\n",
      "diferentes garaje appears 1\n",
      "edificio garaje appears 3\n",
      "edificio. garaje appears 2\n",
      "el garaje appears 7\n",
      "electrodomesticos. garaje appears 1\n",
      "empotrados. garaje appears 1\n",
      "en garaje appears 1\n",
      "energetico. garaje appears 1\n",
      "finca. garaje appears 2\n",
      "finca: garaje appears 1\n",
      "fisico, garaje appears 1\n",
      "fisico. garaje appears 1\n",
      "garaje con appears 1\n",
      "garaje para appears 3\n",
      "geotermia. garaje appears 1\n",
      "gran garaje appears 2\n",
      "hay garaje appears 6\n",
      "hospitales, garaje appears 1\n",
      "impresionante garaje appears 1\n",
      "incluye garaje appears 1\n",
      "instalaciones, garaje appears 1\n",
      "jardines, garaje appears 1\n",
      "jugar. garaje appears 1\n",
      "limpieza, garaje appears 1\n",
      "locales, garaje appears 4\n",
      "localizar garaje appears 1\n",
      "los garaje appears 1\n",
      "luminosa. garaje appears 1\n",
      "marcas. garaje appears 1\n",
      "mismo garaje appears 1\n",
      "natural, garaje appears 3\n",
      "negociable. garaje appears 1\n",
      "ni garaje appears 1\n",
      "nueva, garaje appears 1\n",
      "numerosos garaje appears 1\n",
      "oscilobatientes. garaje appears 1\n",
      "peligros. garaje appears 1\n",
      "piscina garaje appears 1\n",
      "piscina, garaje appears 1\n",
      "plantas, garaje appears 1\n",
      "plantas. garaje appears 1\n",
      "plaza garaje appears 6\n",
      "plazas garaje appears 1\n",
      "pocos. garaje appears 1\n",
      "portero. garaje appears 1\n",
      "principal), garaje appears 1\n",
      "saz, garaje appears 1\n",
      "se garaje appears 1\n",
      "separadas garaje appears 1\n",
      "servicio, garaje appears 1\n",
      "servicio. garaje appears 1\n",
      "sotano garaje appears 1\n",
      "sotano, garaje appears 1\n",
      "sotano- garaje appears 1\n",
      "sotano: garaje appears 1\n",
      "taller. garaje appears 1\n",
      "tambien garaje appears 1\n",
      "terrazas, garaje appears 3\n",
      "tiene garaje appears 11\n",
      "tipo garaje appears 2\n",
      "trastero, garaje appears 1\n",
      "trastero. garaje appears 1\n",
      "turco. garaje appears 1\n",
      "un garaje appears 11\n",
      "varios garaje appears 3\n",
      "vertical, garaje appears 2\n",
      "vivienda, garaje appears 5\n",
      "viviendas, garaje appears 1\n",
      "y garaje appears 34\n"
     ]
    }
   ],
   "source": [
    "garaje_comment = data.apply(lambda x : search_context(element_to_search, x[\"Comentario_lower\"], 1) if element_to_search not in x[\"Info_lower\"] and element_to_search in x[\"Comentario_lower\"] else \"0\", axis = 1)\n",
    "num_ocurrence = np.unique(garaje_comment, return_counts=True)\n",
    "for item, sentence in enumerate(num_ocurrence[0]):\n",
    "    print(f'{sentence} appears {num_ocurrence[1][item]}')"
   ]
  },
  {
   "cell_type": "markdown",
   "id": "fb989296",
   "metadata": {},
   "source": [
    "Aunque continuemos con el mismo dilema que previamente en los comentarios, existe una conjugación que posee la mayoría de los casos, \"de garaje\". Se realiza el estudio para ese en concreto"
   ]
  },
  {
   "cell_type": "code",
   "execution_count": 44,
   "id": "92e8f524",
   "metadata": {},
   "outputs": [
    {
     "name": "stdout",
     "output_type": "stream",
     "text": [
      " plaza de garaje appears 31\n",
      " plazas de garaje appears 4\n",
      " posibilidad de garaje appears 11\n",
      "(2 plazas de garaje appears 1\n",
      "(aeropuerto-bcn). posibilidad de garaje appears 1\n",
      "(existen plazas de garaje appears 1\n",
      "* plaza de garaje appears 1\n",
      "- posibilidad de garaje appears 1\n",
      ". plaza de garaje appears 1\n",
      "0 appears 18289\n",
      "1 \"dispone de garaje appears 1\n",
      "1 plaza de garaje appears 3\n",
      "1 plazas de garaje appears 1\n",
      "10m2 aprox. de garaje appears 1\n",
      "2 plantas de garaje appears 1\n",
      "2 plaza de garaje appears 1\n",
      "2 plazas de garaje appears 28\n",
      "2018- plaza de garaje appears 1\n",
      "24h, posibilidad de garaje appears 1\n",
      "24h. plaza de garaje appears 1\n",
      "3 plazas de garaje appears 12\n",
      "4 plazas de garaje appears 8\n",
      "5.000 plazas de garaje appears 4\n",
      "5.29%. posibilidad de garaje appears 1\n",
      "50. plaza de garaje appears 1\n",
      "72 m2 de garaje appears 1\n",
      "90/mes plaza de garaje appears 1\n",
      "FAIL appears 235\n",
      "a plaza de garaje appears 5\n",
      "a/a. plaza de garaje appears 1\n",
      "adquirir plaza de garaje appears 21\n",
      "adquirir plaza/s de garaje appears 1\n",
      "adquirir plazas de garaje appears 2\n",
      "alarma. plaza de garaje appears 2\n",
      "alquilan plazas de garaje appears 2\n",
      "alquilar plaza de garaje appears 25\n",
      "alquilar plazas de garaje appears 4\n",
      "alquilar/comprar plaza de garaje appears 1\n",
      "alquiler plaza de garaje appears 3\n",
      "amplia plaza de garaje appears 12\n",
      "amplias plazas de garaje appears 12\n",
      "anadir plazas de garaje appears 3\n",
      "ano. plazas de garaje appears 1\n",
      "ascensor, plaza de garaje appears 2\n",
      "ascensor, plazas de garaje appears 4\n",
      "automatico, plaza de garaje appears 1\n",
      "b'[plaza de garaje opcional appears 1\n",
      "b'[posibilidad de garaje por appears 1\n",
      "bano plaza de garaje appears 1\n",
      "bano. plaza de garaje appears 1\n",
      "blindada. plaza de garaje appears 1\n",
      "cambio. plaza de garaje appears 1\n",
      "cocina, -plaza de garaje appears 1\n",
      "colegios. plaza de garaje appears 1\n",
      "comoda plaza de garaje appears 1\n",
      "comodisima plaza de garaje appears 1\n",
      "comprar plaza de garaje appears 5\n",
      "comprar plazas de garaje appears 5\n",
      "comprar/alquilar plazas de garaje appears 4\n",
      "comunes, plaza de garaje appears 1\n",
      "comunes. plaza de garaje appears 1\n",
      "comunicaciones. posibilidad de garaje appears 1\n",
      "con plaza de garaje appears 40\n",
      "con plazas de garaje appears 1\n",
      "con posibilidad de garaje appears 1\n",
      "conserje, posibilidad de garaje appears 1\n",
      "contadores, zona de garaje appears 1\n",
      "continuado, plaza de garaje appears 1\n",
      "cuatro plazas de garaje appears 1\n",
      "cubierta posibilidad de garaje appears 1\n",
      "de compra de garaje appears 2\n",
      "de plaza de garaje appears 156\n",
      "de plazas de garaje appears 8\n",
      "de pza de garaje appears 1\n",
      "del plaza de garaje appears 2\n",
      "dos plaza de garaje appears 1\n",
      "dos plazas de garaje appears 26\n",
      "edificio dispone de garaje appears 2\n",
      "el edificio de garaje appears 1\n",
      "el patio de garaje appears 1\n",
      "empotrados. plaza de garaje appears 2\n",
      "en plazas de garaje appears 1\n",
      "equipada. plaza de garaje appears 2\n",
      "este/oeste. plazas de garaje appears 1\n",
      "etc. plaza de garaje appears 1\n",
      "existen plazas de garaje appears 2\n",
      "finca disponbe de garaje appears 2\n",
      "finca dispone de garaje appears 7\n",
      "finca plazas de garaje appears 1\n",
      "gotele, plaza de garaje appears 1\n",
      "gran plaza de garaje appears 2\n",
      "hay plazas de garaje appears 4\n",
      "hay posibilidad de garaje appears 2\n",
      "hecha. opcion de garaje appears 1\n",
      "in plaza de garaje appears 1\n",
      "incluido. plaza de garaje appears 13\n",
      "incluir plaza de garaje appears 6\n",
      "incluye plaza de garaje appears 3\n",
      "incluyen plaza de garaje appears 1\n",
      "instalacion, posibilidad de garaje appears 1\n",
      "la plaza de garaje appears 7\n",
      "las plazas de garaje appears 2\n",
      "marroquina, (plaza de garaje appears 1\n",
      "martin. plaza de garaje appears 1\n",
      "mejores plazas de garaje appears 1\n",
      "metros, posibilidad de garaje appears 3\n",
      "muchas plazas de garaje appears 1\n",
      "natural. plaza de garaje appears 1\n",
      "natural. posibilidad de garaje appears 2\n",
      "necesaria plaza de garaje appears 1\n",
      "no dispone de garaje appears 6\n",
      "obtenido plaza de garaje appears 1\n",
      "office, plaza de garaje appears 1\n",
      "opcional plaza de garaje appears 4\n",
      "plantas sotano de garaje appears 7\n",
      "plazas amplias de garaje appears 1\n",
      "posee plazas de garaje appears 1\n",
      "posibilidad plaza de garaje appears 3\n",
      "posible plaza de garaje appears 2\n",
      "precio plaza de garaje appears 2\n",
      "privado, plaza de garaje appears 1\n",
      "representativa. posibilidad de garaje appears 1\n",
      "segunda plaza de garaje appears 1\n",
      "servicios. plaza de garaje appears 1\n",
      "sin plaza de garaje appears 2\n",
      "situacion. plaza de garaje appears 1\n",
      "solicitar plaza de garaje appears 1\n",
      "su plaza de garaje appears 2\n",
      "suite), plaza de garaje appears 1\n",
      "sur. terrazaplaza de garaje appears 1\n",
      "tarima. plaza de garaje appears 1\n",
      "tener plaza de garaje appears 1\n",
      "terraza, plaza de garaje appears 2\n",
      "tiene plaza de garaje appears 9\n",
      "transportes. plaza de garaje appears 1\n",
      "trastero, plaza de garaje appears 5\n",
      "trastero. plaza de garaje appears 2\n",
      "trasteros. plaza de garaje appears 10\n",
      "tres plantas de garaje appears 1\n",
      "tres plaza de garaje appears 1\n",
      "tres plazas de garaje appears 1\n",
      "una plaza de garaje appears 108\n",
      "una plazas de garaje appears 1\n",
      "una zona de garaje appears 2\n",
      "vanguardista. plaza de garaje appears 1\n",
      "varias plazas de garaje appears 3\n",
      "venta: plaza de garaje appears 1\n",
      "verano. plaza de garaje appears 1\n",
      "videoportero. plaza de garaje appears 1\n",
      "videovigilancia, posibilidad de garaje appears 2\n",
      "vivienda -plaza de garaje appears 1\n",
      "vivienda, plaza de garaje appears 1\n",
      "viviendas, plazas de garaje appears 1\n",
      "vivir. plaza de garaje appears 1\n",
      "y plaza de garaje appears 28\n",
      "y plazas de garaje appears 21\n",
      "y posibilidad de garaje appears 11\n"
     ]
    }
   ],
   "source": [
    "garaje_comment = data.apply(lambda x : search_context(\"de garaje\", x[\"Comentario_lower\"], 2) if element_to_search not in x[\"Info_lower\"] and element_to_search in x[\"Comentario_lower\"] else \"0\", axis = 1)\n",
    "num_ocurrence = np.unique(garaje_comment, return_counts=True)\n",
    "for item, sentence in enumerate(num_ocurrence[0]):\n",
    "    print(f'{sentence} appears {num_ocurrence[1][item]}')"
   ]
  },
  {
   "cell_type": "markdown",
   "id": "f805a6de",
   "metadata": {},
   "source": [
    "Se observa que en muchos casos no se incluye la plaza de garaje con a vivienda, sino que se comunica que se puede solicitar a mayores. Este trabajo de diferenciar cual es el caso de cada uno es demasiado tedioso, por lo que se descarta seguir estudiándolo"
   ]
  },
  {
   "cell_type": "markdown",
   "id": "54f72a67",
   "metadata": {},
   "source": [
    "## Habitaciones\n",
    "Comprobación de en donde podemos encontrar el elemento habitaciones"
   ]
  },
  {
   "cell_type": "code",
   "execution_count": 45,
   "id": "6affc24f",
   "metadata": {},
   "outputs": [
    {
     "name": "stdout",
     "output_type": "stream",
     "text": [
      "18703\n",
      "648\n",
      "18703\n",
      "648\n",
      "0\n"
     ]
    }
   ],
   "source": [
    "element_to_search = 'hab'\n",
    "## Comprobación de lo ya rellenado\n",
    "print(sum(data[\"N Habitaciones\"].apply(lambda x : 1 if x != 'Desconocido' else 0)))\n",
    "## Comprobación de lo que falta por rellenar\n",
    "print(sum(data[\"N Habitaciones\"].apply(lambda x : 1 if x == 'Desconocido' else 0)))\n",
    "## Comprobación campo Info\n",
    "print(sum(data[\"Info_lower\"].apply(lambda x : 1 if element_to_search in x else 0)))\n",
    "## Comprobación campo Mas detalles, sin tenr en cuenta los encontrados en Info\n",
    "print(sum(data.apply(lambda x : 1 if element_to_search in x[\"Mas detalles_lower\"] and element_to_search not in x[\"Info_lower\"] else 0, axis = 1)))\n",
    "## Comprobación campo Comentario, sin tenr en cuenta los encontrados en Mas detalles\n",
    "print(sum(data.apply(lambda x : 1 if element_to_search in x[\"Comentario_lower\"] and element_to_search not in x[\"Mas detalles_lower\"] else 0, axis = 1)))"
   ]
  },
  {
   "cell_type": "markdown",
   "id": "234bc0ab",
   "metadata": {},
   "source": [
    "Observando estos resultados intuimos que los pocos casos que quedan sin rellenar del número de habitaciones, seguramente sea posible sacarlos del campo \"Mas detalles\""
   ]
  },
  {
   "cell_type": "code",
   "execution_count": 46,
   "id": "6915a484",
   "metadata": {},
   "outputs": [
    {
     "name": "stdout",
     "output_type": "stream",
     "text": [
      "0 appears 18703\n",
      "m2 construidos, sin hab appears 356\n",
      "m2 utiles, sin hab appears 292\n"
     ]
    }
   ],
   "source": [
    "hab_comment = data.apply(lambda x : search_context(element_to_search, x[\"Mas detalles_lower\"], 3) if element_to_search not in x[\"Info_lower\"]  else \"0\", axis = 1)\n",
    "num_ocurrence = np.unique(hab_comment, return_counts=True)\n",
    "for item, sentence in enumerate(num_ocurrence[0]):\n",
    "    print(f'{sentence} appears {num_ocurrence[1][item]}')"
   ]
  },
  {
   "cell_type": "markdown",
   "id": "632f8276",
   "metadata": {},
   "source": [
    "Por lo visto, esas entradas no poseen habitaciones construidas, por lo que le podemos asignar valor 0"
   ]
  },
  {
   "cell_type": "code",
   "execution_count": 47,
   "id": "98594dfd",
   "metadata": {},
   "outputs": [],
   "source": [
    "data.loc[data[\"N Habitaciones\"] == \"Desconocido\", \"N Habitaciones\"] = 0"
   ]
  },
  {
   "cell_type": "markdown",
   "id": "eaa98a28",
   "metadata": {},
   "source": [
    "## m2\n",
    "Comprobación del elemento m2"
   ]
  },
  {
   "cell_type": "code",
   "execution_count": 48,
   "id": "0f607802",
   "metadata": {},
   "outputs": [
    {
     "name": "stdout",
     "output_type": "stream",
     "text": [
      "19351\n",
      "0\n",
      "19351\n",
      "0\n",
      "0\n"
     ]
    }
   ],
   "source": [
    "element_to_search = 'm2'\n",
    "## Comprobación de lo ya rellenado\n",
    "print(sum(data[\"m2\"].apply(lambda x : 1 if x != 'Desconocido' else 0)))\n",
    "## Comprobación de lo que falta por rellenar\n",
    "print(sum(data[\"m2\"].apply(lambda x : 1 if x == 'Desconocido' else 0)))\n",
    "## Comprobación campo Info\n",
    "print(sum(data[\"Info_lower\"].apply(lambda x : 1 if element_to_search in x else 0)))\n",
    "## Comprobación campo Mas detalles, sin tenr en cuenta los encontrados en Info\n",
    "print(sum(data.apply(lambda x : 1 if element_to_search in x[\"Mas detalles_lower\"] and element_to_search not in x[\"Info_lower\"] else 0, axis = 1)))\n",
    "## Comprobación campo Comentario, sin tenr en cuenta los encontrados en Mas detalles\n",
    "print(sum(data.apply(lambda x : 1 if element_to_search in x[\"Comentario_lower\"] and element_to_search not in x[\"Mas detalles_lower\"] else 0, axis = 1)))"
   ]
  },
  {
   "cell_type": "markdown",
   "id": "b78afb42",
   "metadata": {},
   "source": [
    "m2 está totalmente rellenado"
   ]
  },
  {
   "cell_type": "markdown",
   "id": "7c0736ff",
   "metadata": {},
   "source": [
    "## Baños\n",
    "Comprobación de los baños"
   ]
  },
  {
   "cell_type": "code",
   "execution_count": 49,
   "id": "16dac55e",
   "metadata": {},
   "outputs": [
    {
     "name": "stdout",
     "output_type": "stream",
     "text": [
      "0\n",
      "19351\n",
      "0\n"
     ]
    }
   ],
   "source": [
    "elment_to_search = 'bano'\n",
    "## Comprobación campo Info\n",
    "print(sum(data[\"Info_lower\"].apply(lambda x : 1 if elment_to_search in x else 0)))\n",
    "## Comprobación campo Mas detalles, sin tenr en cuenta los encontrados en Info\n",
    "print(sum(data.apply(lambda x : 1 if elment_to_search in x[\"Mas detalles_lower\"] and elment_to_search not in x[\"Info_lower\"] else 0, axis = 1)))\n",
    "## Comprobación campo Comentario, sin tenr en cuenta los encontrados en Mas detalles\n",
    "print(sum(data.apply(lambda x : 1 if elment_to_search in x[\"Comentario_lower\"] and elment_to_search not in x[\"Mas detalles_lower\"] else 0, axis = 1)))"
   ]
  },
  {
   "cell_type": "code",
   "execution_count": 50,
   "id": "6d904143",
   "metadata": {},
   "outputs": [
    {
     "name": "stdout",
     "output_type": "stream",
     "text": [
      "1 bano appears 9375\n",
      "10 bano appears 18\n",
      "11 bano appears 6\n",
      "12 bano appears 2\n",
      "13 bano appears 2\n",
      "14 bano appears 2\n",
      "16 bano appears 3\n",
      "17 bano appears 1\n",
      "2 bano appears 5964\n",
      "3 bano appears 2017\n",
      "4 bano appears 911\n",
      "41 bano appears 1\n",
      "5 bano appears 570\n",
      "6 bano appears 249\n",
      "7 bano appears 125\n",
      "8 bano appears 59\n",
      "9 bano appears 34\n",
      "sin bano appears 12\n"
     ]
    }
   ],
   "source": [
    "bano_comment = data.apply(lambda x : search_context(elment_to_search, x[\"Mas detalles_lower\"], 1) if elment_to_search not in x[\"Info_lower\"]  else \"0\", axis = 1)\n",
    "num_ocurrence = np.unique(bano_comment, return_counts=True)\n",
    "for item, sentence in enumerate(num_ocurrence[0]):\n",
    "    print(f'{sentence} appears {num_ocurrence[1][item]}')"
   ]
  },
  {
   "cell_type": "markdown",
   "id": "b8831ca2",
   "metadata": {},
   "source": [
    "Este resultadonos confirma que se pueden sacar todos los resultados de forma simple de Mas detalles para conocer el número de baños"
   ]
  },
  {
   "cell_type": "code",
   "execution_count": 51,
   "id": "1bff4e9b",
   "metadata": {},
   "outputs": [],
   "source": [
    "data['N banos'] = data['Mas detalles_lower'].apply(lambda x: re.search('(\\d{1,}) bano', x)[1] if re.search('(\\d{1,}) bano', x) is not None else 0)\n",
    "data.loc[data['N banos'] == 'sin', 'N banos'] = 0\n",
    "data['N banos'] = data['N banos'].astype(int)"
   ]
  },
  {
   "cell_type": "code",
   "execution_count": 52,
   "id": "18e6c691",
   "metadata": {},
   "outputs": [
    {
     "name": "stdout",
     "output_type": "stream",
     "text": [
      "0 appears 12\n",
      "1 appears 9375\n",
      "2 appears 5964\n",
      "3 appears 2017\n",
      "4 appears 911\n",
      "5 appears 570\n",
      "6 appears 249\n",
      "7 appears 125\n",
      "8 appears 59\n",
      "9 appears 34\n",
      "10 appears 18\n",
      "11 appears 6\n",
      "12 appears 2\n",
      "13 appears 2\n",
      "14 appears 2\n",
      "16 appears 3\n",
      "17 appears 1\n",
      "41 appears 1\n"
     ]
    }
   ],
   "source": [
    "num_ocurrence = np.unique(data['N banos'], return_counts=True)\n",
    "for item, sentence in enumerate(num_ocurrence[0]):\n",
    "    print(f'{sentence} appears {num_ocurrence[1][item]}')"
   ]
  },
  {
   "cell_type": "markdown",
   "id": "695ea9c2",
   "metadata": {},
   "source": [
    "Todos los matches quedan bien rellenados"
   ]
  },
  {
   "cell_type": "markdown",
   "id": "c2a83583",
   "metadata": {},
   "source": [
    "## Campos Latitud y Longitud"
   ]
  },
  {
   "cell_type": "markdown",
   "id": "cdd49553",
   "metadata": {},
   "source": [
    "Para obtener los campos de latitud y longitud, buscaremos las coordenadas del punto medio de cada subzona y las guardaremos en dos diccionarios, uno de latitud y otro de longitud. Tras esto se crearán y cubrirán los campos respectivos mediante el uso de estos dos elementos."
   ]
  },
  {
   "cell_type": "code",
   "execution_count": 53,
   "id": "ae2a5cdb",
   "metadata": {},
   "outputs": [],
   "source": [
    "# Diccionario de latitud por zonas\n",
    "\n",
    "dict_latitud = {\n",
    "'Malasaña-Universidad':40.4263 , 'Lavapiés-Embajadores':40.4089, 'Palacio':40.4152, 'Chueca-Justicia':40.4243,\n",
    "'Sol':40.4173,'Huertas-Cortes':40.4139,'Alameda de Osuna':40.4567,'Casco Histórico de Barajas':40.4744,\n",
    "'Timón':40.4733,'Campo de las Naciones-Corralejos':40.4560,'Aeropuerto':40.4604,'Peñagrande':40.4787,\n",
    "'Las Tablas':40.5039,'Tres Olivos - Valverde':40.4969,'Pilar':40.4770,'Mirasierra':40.4936,\n",
    "'La Paz':40.4822,'Fuentelarreina':40.4803,'Montecarmelo':40.5085,'Arroyo del Fresno':40.4901,\n",
    "'El Pardo':40.5205,'El Viso':40.4448,'Bernabéu-Hispanoamérica':40.4579,'Nueva España':40.4632,\n",
    "'Prosperidad':40.4454,'Castilla':40.4757,'Ciudad Jardín':40.4487,'Pueblo Nuevo':40.4275,\n",
    "'Ventas':40.4255,'Quintana':40.4365,'Concepción':40.4389,'Costillares':40.4761,\n",
    "'San Juan Bautista':40.4511,'San Pascual':40.4433,'Colina':40.4584,'Atalaya':40.46474,\n",
    "'Cuatro Caminos':40.4519,'Berruguete':40.4598,'Valdeacederas':40.4674,'Cuzco-Castillejos':40.4628,\n",
    "'Bellas Vistas':40.45298,'Ventilla-Almenara':40.4711,'Argüelles':40.4281,'Aravaca':40.4564,\n",
    "'Ciudad Universitaria':40.4548,'Valdemarín':40.4682,'El Plantío':40.4696,'Valdezarza':40.4660,\n",
    "'Casa de Campo':40.4193,'Recoletos':40.4253,'Goya':40.4252,'Castellana':40.4334,\n",
    "'Lista':40.43215,'Guindalera':40.4364,'Fuente del Berro':40.4250,'Almagro':40.4335,\n",
    "'Trafalgar':40.4335,'Nuevos Ministerios-Ríos Rosas':40.4449,'Gaztambide':40.4354,'Vallehermoso':40.4427,\n",
    "'Arapiles':40.4345,'Pacífico':40.4047,'Jerónimos':40.4154,'Ibiza':40.4191,\n",
    "'Niño Jesús':40.4118,'Adelfas':40.4007,'Estrella':40.4134,'Puerta del Ángel':40.4102,\n",
    "'Aluche':40.3921,'Lucero':40.4024,'Águilas':40.3813,'Campamento':40.3842,\n",
    "'Los Cármenes':40.4019,'Cuatro Vientos':40.3720,'Vista Alegre':40.3840,'San Isidro':40.3960,\n",
    "'Puerta Bonita':40.38161,'Opañel':40.3912,'Buena Vista':40.3681,'Abrantes':40.3810,\n",
    "'Comillas':40.3934,'Pau de Carabanchel':40.3753,'Palos de Moguer':40.4038,'Imperial':40.4073,\n",
    "'Delicias':40.3961,'Acacias':40.4015,'Chopera':40.4017,'Legazpi':40.3919,\n",
    "'Almendrales':40.3837,'Moscardó':40.3892,'San Fermín':40.3713,'12 de Octubre-Orcasur':40.3696,\n",
    "'Orcasitas':40.3687,'Pradolongo':40.3815,'Zofío':40.3802,'San Diego':40.3917,\n",
    "'Numancia':40.4022,'Palomeras sureste':40.3870,'Entrevías':40.3781,'Palomeras Bajas':40.3867,\n",
    "'Portazgo':40.3904,'Ensanche de Vallecas - La Gavia':40.3725,'Casco Histórico de Vallecas':40.3763,'Santa Eugenia':40.3828,\n",
    "'Media Legua':40.4118,'Marroquina':40.4109,'Vinateros':40.4058,'Fontarrón':40.4009,'Pavones':40.4003,\n",
    "'Horcajo':40.4074,'El Cañaveral - Los Berrocales':40.4059,'Casco Histórico de Vicálvaro':40.4017,'Ambroz':40.4082,\n",
    "'Valdebernardo - Valderribas':40.3964,'Simancas':40.4361,'Rejas':40.4448,'Canillejas':40.4446,\n",
    "'Arcos':40.4213,'Rosas':40.4292,'Salvador':40.4436,'Amposta':40.4270,\n",
    "'Hellín':40.4315,'Villaverde Alto':40.3439,'Los Rosales':40.3576,'San Cristóbal':40.3419,\n",
    "'Los Ángeles':40.3567,'Butarque':40.3445,'Sanchinarro':40.4908,'Conde Orgaz-Piovera':40.4551,\n",
    "'Pinar del Rey':40.4738,'Canillas':40.4646,'Valdebebas - Valdefuentes':40.4875,'Virgen del Cortijo - Manoteras':40.4879,\n",
    "'Apóstol Santiago':40.4773,'Palomas':40.4531}"
   ]
  },
  {
   "cell_type": "code",
   "execution_count": 54,
   "id": "93ce1e9f",
   "metadata": {},
   "outputs": [],
   "source": [
    "# Diccionario de longitud por zonas\n",
    "\n",
    "dict_longitud = {\n",
    "'Malasaña-Universidad':-3.7066, 'Lavapiés-Embajadores':-3.7002, 'Palacio':-3.7110, 'Chueca-Justicia':-3.6989,\n",
    "'Sol':-3.7045,'Huertas-Cortes':-3.6985,'Alameda de Osuna':-3.5914,'Casco Histórico de Barajas':-3.5784,\n",
    "'Timón':-3.5909,'Campo de las Naciones-Corralejos':-3.6188,'Aeropuerto':-3.5853,'Peñagrande':-3.7272,\n",
    "'Las Tablas':-3.6718,'Tres Olivos - Valverde':-3.6922,'Pilar':-3.7098,'Mirasierra':-3.7157,\n",
    "'La Paz':-3.6969,'Fuentelarreina':-3.7411,'Montecarmelo':-3.6968,'Arroyo del Fresno':-3.7275,\n",
    "'El Pardo':-3.7771,'El Viso':-3.6854,'Bernabéu-Hispanoamérica':-3.6819,'Nueva España':-3.6780,\n",
    "'Prosperidad':-3.6669,'Castilla':-3.6707,'Ciudad Jardín':-3.6732,'Pueblo Nuevo':-3.6365,\n",
    "'Ventas':-3.6497,'Quintana':-3.6457,'Concepción':-3.6497,'Costillares':-3.6687,\n",
    "'San Juan Bautista':-3.6564,'San Pascual':-3.6525,'Colina':-3.6600,'Atalaya':-3.6650,\n",
    "'Cuatro Caminos':-3.6968,'Berruguete':-3.7049,'Valdeacederas':-3.7033,'Cuzco-Castillejos':-3.6958,\n",
    "'Bellas Vistas':-3.7069,'Ventilla-Almenara':-3.6945,'Argüelles':-3.7172,'Aravaca':-3.7775,\n",
    "'Ciudad Universitaria':-3.7347,'Valdemarín':-3.7787,'El Plantío':-3.8162,'Valdezarza':-3.7161,\n",
    "'Casa de Campo':-3.7911,'Recoletos':-3.6850,'Goya':-3.6737,'Castellana':-3.6830,\n",
    "'Lista':-3.6750,'Guindalera':-3.6665,'Fuente del Berro':-3.6633,'Almagro':-3.6920,\n",
    "'Trafalgar':-3.7008,'Nuevos Ministerios-Ríos Rosas':-3.6927,'Gaztambide':-3.7144,'Vallehermoso':-3.7113,\n",
    "'Arapiles':-3.7080,'Pacífico':-3.6775,'Jerónimos':-3.6898,'Ibiza':-3.6742,\n",
    "'Niño Jesús':-3.6732,'Adelfas':-3.6714,'Estrella':-3.6648,'Puerta del Ángel':-3.7305,\n",
    "'Aluche':-3.7543,'Lucero':-3.7500,'Águilas':-3.7710,'Campamento':-3.7989,\n",
    "'Los Cármenes':-3.7359,'Cuatro Vientos':-3.7679,'Vista Alegre':-3.7453,'San Isidro':-3.7279,\n",
    "'Puerta Bonita':-3.7417,'Opañel':-3.7218,'Buena Vista':-3.7457,'Abrantes':-3.7289,\n",
    "'Comillas':-3.7108,'Pau de Carabanchel':-3.7443,'Palos de Moguer':-3.6940,'Imperial':-3.7172,\n",
    "'Delicias':-3.6912,'Acacias':-3.7069,'Chopera':-3.7102,'Legazpi':-3.7214,\n",
    "'Almendrales':-3.6996,'Moscardó':-3.7069,'San Fermín':-3.6898,'12 de Octubre-Orcasur':-3.7009,\n",
    "'Orcasitas':-3.7104,'Pradolongo':-3.7078,'Zofío':-3.7145,'San Diego':-3.6675,\n",
    "'Numancia':-3.6607,'Palomeras sureste':-3.6408,'Entrevías':-3.6681,'Palomeras Bajas':-3.6574,\n",
    "'Portazgo':-3.6481,'Ensanche de Vallecas - La Gavia':-3.6115,'Casco Histórico de Vallecas':-3.6260,'Santa Eugenia':-3.6137,\n",
    "'Media Legua':-3.6568,'Marroquina':-3.6458,'Vinateros':-3.6425,'Fontarrón':-3.6442,'Pavones':-3.6314,\n",
    "'Horcajo':-3.6284,'El Cañaveral - Los Berrocales':-3.5525,'Casco Histórico de Vicálvaro':-3.6193,'Ambroz':-3.6093,\n",
    "'Valdebernardo - Valderribas':-3.6081,'Simancas':-3.6235,'Rejas':-3.5779,'Canillejas':-3.6098,\n",
    "'Arcos':-3.6169,'Rosas':-3.6071,'Salvador':-3.6334,'Amposta':-3.6213,\n",
    "'Hellín':-3.6147,'Villaverde Alto':-3.7084,'Los Rosales':-3.6872,'San Cristóbal':-3.6880,\n",
    "'Los Ángeles':-3.6983,'Butarque':-3.6756,'Sanchinarro':-3.6574,'Conde Orgaz-Piovera':-3.6379,\n",
    "'Pinar del Rey':-3.6453,'Canillas':-3.6411,'Valdebebas - Valdefuentes':-3.6104,'Virgen del Cortijo - Manoteras':-3.6654,\n",
    "'Apóstol Santiago':-3.6592,'Palomas':-3.6148}"
   ]
  },
  {
   "cell_type": "code",
   "execution_count": 55,
   "id": "5711885b",
   "metadata": {},
   "outputs": [],
   "source": [
    "# Ahora recorremos el diccionario de latitud y asignamos los valores \n",
    "# numéricos correspondientes a cada subzona\n",
    "\n",
    "for key,item in dict_latitud.items():\n",
    "    data.loc[data['Subzona'] == key, 'Latitud'] = item"
   ]
  },
  {
   "cell_type": "code",
   "execution_count": 56,
   "id": "883a416e",
   "metadata": {},
   "outputs": [],
   "source": [
    "# Ahora recorremos el diccionario de longitud y asignamos los valores \n",
    "# numéricos correspondientes a cada subzona\n",
    "\n",
    "for key,item in dict_longitud.items():\n",
    "    data.loc[data['Subzona'] == key, 'Longitud'] = item"
   ]
  },
  {
   "cell_type": "code",
   "execution_count": 57,
   "id": "aac9ee1a",
   "metadata": {},
   "outputs": [
    {
     "data": {
      "text/html": [
       "<div>\n",
       "<style scoped>\n",
       "    .dataframe tbody tr th:only-of-type {\n",
       "        vertical-align: middle;\n",
       "    }\n",
       "\n",
       "    .dataframe tbody tr th {\n",
       "        vertical-align: top;\n",
       "    }\n",
       "\n",
       "    .dataframe thead th {\n",
       "        text-align: right;\n",
       "    }\n",
       "</style>\n",
       "<table border=\"1\" class=\"dataframe\">\n",
       "  <thead>\n",
       "    <tr style=\"text-align: right;\">\n",
       "      <th></th>\n",
       "      <th>ID</th>\n",
       "      <th>Precio</th>\n",
       "      <th>Tipo</th>\n",
       "      <th>N Habitaciones</th>\n",
       "      <th>m2</th>\n",
       "      <th>Comentario</th>\n",
       "      <th>Zona</th>\n",
       "      <th>Subzona</th>\n",
       "      <th>Info</th>\n",
       "      <th>Mas detalles</th>\n",
       "      <th>...</th>\n",
       "      <th>Mas detalles_lower</th>\n",
       "      <th>Info_lower</th>\n",
       "      <th>Planta</th>\n",
       "      <th>Cantidad de plantas</th>\n",
       "      <th>Piscina</th>\n",
       "      <th>Ascensor</th>\n",
       "      <th>Garaje</th>\n",
       "      <th>N banos</th>\n",
       "      <th>Latitud</th>\n",
       "      <th>Longitud</th>\n",
       "    </tr>\n",
       "  </thead>\n",
       "  <tbody>\n",
       "    <tr>\n",
       "      <th>18573</th>\n",
       "      <td>96900683</td>\n",
       "      <td>160.000</td>\n",
       "      <td>Piso</td>\n",
       "      <td>3</td>\n",
       "      <td>78</td>\n",
       "      <td>[Piso de 78 m2 en planta (8), con vistas, tres...</td>\n",
       "      <td>Villaverde</td>\n",
       "      <td>Los Ángeles</td>\n",
       "      <td>78 m²   3 hab.   Planta 8ª exterior con asce...</td>\n",
       "      <td>[78 m² construidos, 3 habitaciones, 1 baño, Te...</td>\n",
       "      <td>...</td>\n",
       "      <td>b'[78 m2 construidos, 3 habitaciones, 1 bano, ...</td>\n",
       "      <td>b'  78 m2   3 hab.   planta 8a exterior con as...</td>\n",
       "      <td>8</td>\n",
       "      <td>1</td>\n",
       "      <td>0</td>\n",
       "      <td>1</td>\n",
       "      <td>0</td>\n",
       "      <td>1</td>\n",
       "      <td>40.3567</td>\n",
       "      <td>-3.6983</td>\n",
       "    </tr>\n",
       "    <tr>\n",
       "      <th>8293</th>\n",
       "      <td>96831259</td>\n",
       "      <td>1.900.000</td>\n",
       "      <td>Piso</td>\n",
       "      <td>5</td>\n",
       "      <td>210</td>\n",
       "      <td>[Piso TOP con terraza soleada, orientación Sur...</td>\n",
       "      <td>Barrio de Salamanca</td>\n",
       "      <td>Recoletos</td>\n",
       "      <td>210 m²   5 hab.   Planta 5ª exterior con asc...</td>\n",
       "      <td>[210 m² construidos, 5 habitaciones, 3 baños, ...</td>\n",
       "      <td>...</td>\n",
       "      <td>b'[210 m2 construidos, 5 habitaciones, 3 banos...</td>\n",
       "      <td>b'  210 m2   5 hab.   planta 5a exterior con a...</td>\n",
       "      <td>5</td>\n",
       "      <td>1</td>\n",
       "      <td>0</td>\n",
       "      <td>1</td>\n",
       "      <td>1</td>\n",
       "      <td>3</td>\n",
       "      <td>40.4253</td>\n",
       "      <td>-3.6850</td>\n",
       "    </tr>\n",
       "    <tr>\n",
       "      <th>12141</th>\n",
       "      <td>97376201</td>\n",
       "      <td>205.000</td>\n",
       "      <td>Piso</td>\n",
       "      <td>3</td>\n",
       "      <td>85</td>\n",
       "      <td>[PARTICULAR.  Vende piso magníficamente situad...</td>\n",
       "      <td>Latina</td>\n",
       "      <td>Aluche</td>\n",
       "      <td>85 m²   3 hab.   Planta 8ª exterior con asce...</td>\n",
       "      <td>[85 m² construidos, 3 habitaciones, 1 baño, Te...</td>\n",
       "      <td>...</td>\n",
       "      <td>b'[85 m2 construidos, 3 habitaciones, 1 bano, ...</td>\n",
       "      <td>b'  85 m2   3 hab.   planta 8a exterior con as...</td>\n",
       "      <td>8</td>\n",
       "      <td>1</td>\n",
       "      <td>0</td>\n",
       "      <td>1</td>\n",
       "      <td>0</td>\n",
       "      <td>1</td>\n",
       "      <td>40.3921</td>\n",
       "      <td>-3.7543</td>\n",
       "    </tr>\n",
       "  </tbody>\n",
       "</table>\n",
       "<p>3 rows × 21 columns</p>\n",
       "</div>"
      ],
      "text/plain": [
       "             ID     Precio  Tipo N Habitaciones   m2  \\\n",
       "18573  96900683    160.000  Piso              3   78   \n",
       "8293   96831259  1.900.000  Piso              5  210   \n",
       "12141  97376201    205.000  Piso              3   85   \n",
       "\n",
       "                                              Comentario                 Zona  \\\n",
       "18573  [Piso de 78 m2 en planta (8), con vistas, tres...           Villaverde   \n",
       "8293   [Piso TOP con terraza soleada, orientación Sur...  Barrio de Salamanca   \n",
       "12141  [PARTICULAR.  Vende piso magníficamente situad...               Latina   \n",
       "\n",
       "           Subzona                                               Info  \\\n",
       "18573  Los Ángeles    78 m²   3 hab.   Planta 8ª exterior con asce...   \n",
       "8293     Recoletos    210 m²   5 hab.   Planta 5ª exterior con asc...   \n",
       "12141       Aluche    85 m²   3 hab.   Planta 8ª exterior con asce...   \n",
       "\n",
       "                                            Mas detalles  ...  \\\n",
       "18573  [78 m² construidos, 3 habitaciones, 1 baño, Te...  ...   \n",
       "8293   [210 m² construidos, 5 habitaciones, 3 baños, ...  ...   \n",
       "12141  [85 m² construidos, 3 habitaciones, 1 baño, Te...  ...   \n",
       "\n",
       "                                      Mas detalles_lower  \\\n",
       "18573  b'[78 m2 construidos, 3 habitaciones, 1 bano, ...   \n",
       "8293   b'[210 m2 construidos, 5 habitaciones, 3 banos...   \n",
       "12141  b'[85 m2 construidos, 3 habitaciones, 1 bano, ...   \n",
       "\n",
       "                                              Info_lower Planta  \\\n",
       "18573  b'  78 m2   3 hab.   planta 8a exterior con as...      8   \n",
       "8293   b'  210 m2   5 hab.   planta 5a exterior con a...      5   \n",
       "12141  b'  85 m2   3 hab.   planta 8a exterior con as...      8   \n",
       "\n",
       "      Cantidad de plantas  Piscina  Ascensor  Garaje  N banos  Latitud  \\\n",
       "18573                   1        0         1       0        1  40.3567   \n",
       "8293                    1        0         1       1        3  40.4253   \n",
       "12141                   1        0         1       0        1  40.3921   \n",
       "\n",
       "       Longitud  \n",
       "18573   -3.6983  \n",
       "8293    -3.6850  \n",
       "12141   -3.7543  \n",
       "\n",
       "[3 rows x 21 columns]"
      ]
     },
     "execution_count": 57,
     "metadata": {},
     "output_type": "execute_result"
    }
   ],
   "source": [
    "data.sample(3)"
   ]
  },
  {
   "cell_type": "markdown",
   "id": "a0b0fdb3",
   "metadata": {},
   "source": [
    "## Campo Precio_m2 "
   ]
  },
  {
   "cell_type": "markdown",
   "id": "756a109b",
   "metadata": {},
   "source": [
    "En este campo crearemos un campo que sea precio/m2 resultante de la división de los campos con esos nombres. De esta manera obtendremos un campo que nos aproximen un precio de las viviendas de una manera más estandarizada y extrapolable a nuevos registros."
   ]
  },
  {
   "cell_type": "code",
   "execution_count": 58,
   "id": "00884b0e",
   "metadata": {},
   "outputs": [],
   "source": [
    "# Cambiamos el tipo de dato de m2 y Precio de string a numérico, vimos que no presentaba valores que no fuesen de este tipo\n",
    "data['m2'] = data['m2'].map(lambda x: x.replace('.','')) # Reemplazamos los puntos para convertir a numérico\n",
    "data['m2'] = data['m2'].astype(int)\n",
    "data['Precio'] = data['Precio'].map(lambda x: x.replace('.','')) # Reemplazamos los puntos para convertir a numérico\n",
    "data['Precio'] = data['Precio'].astype(int)\n",
    "data['N Habitaciones'] = data['N Habitaciones'].astype(int)\n",
    "data['Planta'] = data['Planta'].astype(int)\n",
    "\n",
    "data['Precio_m2'] = data['Precio'].div(data['m2'].values,axis=0)"
   ]
  },
  {
   "cell_type": "code",
   "execution_count": 59,
   "id": "95a737fc",
   "metadata": {},
   "outputs": [
    {
     "data": {
      "text/plain": [
       "ID                       int64\n",
       "Precio                   int64\n",
       "Tipo                    object\n",
       "N Habitaciones           int64\n",
       "m2                       int64\n",
       "Comentario              object\n",
       "Zona                    object\n",
       "Subzona                 object\n",
       "Info                    object\n",
       "Mas detalles            object\n",
       "Comentario_lower        object\n",
       "Mas detalles_lower      object\n",
       "Info_lower              object\n",
       "Planta                   int64\n",
       "Cantidad de plantas      int64\n",
       "Piscina                  int64\n",
       "Ascensor                 int64\n",
       "Garaje                   int64\n",
       "N banos                  int64\n",
       "Latitud                float64\n",
       "Longitud               float64\n",
       "Precio_m2              float64\n",
       "dtype: object"
      ]
     },
     "execution_count": 59,
     "metadata": {},
     "output_type": "execute_result"
    }
   ],
   "source": [
    "data.dtypes"
   ]
  },
  {
   "cell_type": "code",
   "execution_count": 60,
   "id": "1fbeeadf",
   "metadata": {},
   "outputs": [],
   "source": [
    "data.to_csv('Datos_Madrid_tratados.csv',index=False)"
   ]
  },
  {
   "cell_type": "code",
   "execution_count": null,
   "id": "8901d22c",
   "metadata": {},
   "outputs": [],
   "source": []
  }
 ],
 "metadata": {
  "colab": {
   "collapsed_sections": [],
   "name": "Tratamiento y limpieza de datos.ipynb",
   "provenance": []
  },
  "kernelspec": {
   "display_name": "Python 3",
   "language": "python",
   "name": "python3"
  },
  "language_info": {
   "codemirror_mode": {
    "name": "ipython",
    "version": 3
   },
   "file_extension": ".py",
   "mimetype": "text/x-python",
   "name": "python",
   "nbconvert_exporter": "python",
   "pygments_lexer": "ipython3",
   "version": "3.8.8"
  }
 },
 "nbformat": 4,
 "nbformat_minor": 5
}
